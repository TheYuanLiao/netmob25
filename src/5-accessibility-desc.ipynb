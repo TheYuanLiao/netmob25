{
 "cells": [
  {
   "cell_type": "markdown",
   "id": "aaf5b12a",
   "metadata": {},
   "source": [
    "# Accessibility descriptive analysis and modeling"
   ]
  },
  {
   "cell_type": "code",
   "execution_count": 6,
   "id": "7547634a",
   "metadata": {},
   "outputs": [
    {
     "name": "stdout",
     "output_type": "stream",
     "text": [
      "The autoreload extension is already loaded. To reload it, use:\n",
      "  %reload_ext autoreload\n",
      "D:\\netmob25\n"
     ]
    }
   ],
   "source": [
    "%load_ext autoreload\n",
    "%autoreload 2\n",
    "%cd D:\\netmob25"
   ]
  },
  {
   "cell_type": "code",
   "execution_count": 14,
   "id": "335b7ad3",
   "metadata": {},
   "outputs": [],
   "source": [
    "import os\n",
    "os.environ['USE_PYGEOS'] = '0'\n",
    "import pandas as pd\n",
    "import geopandas as gpd\n",
    "from statsmodels.stats.weightstats import DescrStatsW\n",
    "import numpy as np\n",
    "from tqdm import tqdm\n",
    "import matplotlib.pyplot as plt\n",
    "import numpy as np\n",
    "from pygam import LinearGAM, s, f\n",
    "import shap\n",
    "import matplotlib.pyplot as plt\n",
    "import seaborn as sns"
   ]
  },
  {
   "cell_type": "code",
   "execution_count": 8,
   "id": "353e98d1",
   "metadata": {},
   "outputs": [],
   "source": [
    "import matplotlib as mpl\n",
    "def setup_mpl():\n",
    "    mpl.rc('font', size = 9)\n",
    "    mpl.rcParams['legend.fontsize'] = 'small'\n",
    "    mpl.rcParams['legend.fontsize'] = 'small'\n",
    "    mpl.rcParams['xtick.labelsize'] = 'small'\n",
    "    mpl.rcParams['ytick.labelsize'] = 'small'\n",
    "    mpl.rcParams['lines.linewidth'] = 1\n",
    "    mpl.rcParams['xtick.major.width'] = 1\n",
    "    mpl.rcParams['ytick.major.width'] = 1\n",
    "    mpl.rcParams['xtick.minor.width'] = 1\n",
    "    mpl.rcParams['ytick.minor.width'] = 1\n",
    "    mpl.rcParams['xtick.major.size'] = 3\n",
    "    mpl.rcParams['ytick.major.size'] = 3\n",
    "    mpl.rcParams['xtick.minor.size'] = 1.5\n",
    "    mpl.rcParams['ytick.minor.size'] = 1.5\n",
    "    mpl.rcParams['axes.linewidth'] = 1\n",
    "    mpl.rcParams['xtick.top'] = False\n",
    "    mpl.rcParams['ytick.right'] = False\n",
    "    mpl.rcParams['mathtext.default'] = 'regular'\n",
    "    mpl.rcParams['xtick.major.pad'] = '2.3'\n",
    "    mpl.rcParams['ytick.major.pad' ]= '2.3'\n",
    "    mpl.rcParams['axes.labelpad'] = 2\n",
    "\n",
    "setup_mpl()"
   ]
  },
  {
   "cell_type": "code",
   "execution_count": 4,
   "id": "68b72cc1",
   "metadata": {},
   "outputs": [
    {
     "data": {
      "text/plain": [
       "Index(['lon', 'lat', 'time', 'day_type', 'dow', 'ID', 'purpose', 'weight_day',\n",
       "       'trip_id', 'hour', 'accessibility', 'time_threshold', 'amenity', 'mode',\n",
       "       'd2h', 'home_accessibility', 'gap_access', 'Home'],\n",
       "      dtype='object')"
      ]
     },
     "execution_count": 4,
     "metadata": {},
     "output_type": "execute_result"
    }
   ],
   "source": [
    "df = pd.read_parquet(\"dbs/activity_access.parquet\")\n",
    "df.loc[:, 'Home'] = df['purpose'] == 'Home'\n",
    "df.columns"
   ]
  },
  {
   "cell_type": "code",
   "execution_count": null,
   "id": "62e8ac15",
   "metadata": {},
   "outputs": [],
   "source": [
    "def wmedian(x, weight_field='weight_day'):\n",
    "    \"\"\"\n",
    "    Weighted median function.\n",
    "    \"\"\"\n",
    "    if len(x) == 0:\n",
    "        return pd.Series(dict(accessibility=np.nan, d2h=np.nan, mode_main=np.nan))\n",
    "    d1 = DescrStatsW(x['accessibility'], weights=x[weight_field])\n",
    "    d2 = DescrStatsW(x['d2h'], weights=x[weight_field])\n",
    "    return pd.Series(dict(accessibility=d1.quantile(0.5, return_pandas=False)[0], \n",
    "                          d2h=d2.quantile(0.5, return_pandas=False)[0]))\n"
   ]
  },
  {
   "cell_type": "code",
   "execution_count": null,
   "id": "00194df0",
   "metadata": {},
   "outputs": [],
   "source": [
    "tqdm.pandas()\n",
    "df_nh = df[~df['Home']].groupby(['ID', 'time_threshold', 'amenity', 'mode']).progress_apply(wmedian).reset_index().rename(columns={'accessibility': 'access_nh', \n",
    "                                                                                                                                    'd2h': 'd2h_nh'})\n",
    "df_h = df[df['Home']].groupby(['ID', 'time_threshold', 'amenity', 'mode']).progress_apply(wmedian).reset_index().rename(columns={'accessibility': 'access_h',\n",
    "                                                                                                                                 'd2h': 'd2h_h'})\n",
    "df_ind = pd.merge(df_nh, df_h.drop(columns=['d2h_h']), on=['ID', 'time_threshold', 'amenity', 'mode'], how='left')\n",
    "df_ind.head()"
   ]
  },
  {
   "cell_type": "code",
   "execution_count": null,
   "id": "73ec2f48",
   "metadata": {},
   "outputs": [
    {
     "data": {
      "application/vnd.microsoft.datawrangler.viewer.v0+json": {
       "columns": [
        {
         "name": "index",
         "rawType": "int64",
         "type": "integer"
        },
        {
         "name": "ID",
         "rawType": "object",
         "type": "string"
        },
        {
         "name": "time_threshold",
         "rawType": "category",
         "type": "unknown"
        },
        {
         "name": "amenity",
         "rawType": "category",
         "type": "unknown"
        },
        {
         "name": "mode",
         "rawType": "category",
         "type": "unknown"
        },
        {
         "name": "access_nh",
         "rawType": "float64",
         "type": "float"
        },
        {
         "name": "d2h_nh",
         "rawType": "float64",
         "type": "float"
        },
        {
         "name": "access_h",
         "rawType": "float64",
         "type": "float"
        },
        {
         "name": "codgeo",
         "rawType": "int64",
         "type": "integer"
        },
        {
         "name": "weight_ind",
         "rawType": "float64",
         "type": "float"
        }
       ],
       "ref": "af13fbf8-4f5f-4c7f-9ef7-be933a1cdced",
       "rows": [
        [
         "0",
         "10_2978",
         "15 min",
         "Education",
         "Car",
         "255.0",
         "1.964410837963233",
         "323.0",
         "78092",
         "1856.2061595"
        ],
        [
         "1",
         "10_2978",
         "15 min",
         "Education",
         "Public transit",
         "6.0",
         "1.964410837963233",
         "4.0",
         "78092",
         "1856.2061595"
        ],
        [
         "2",
         "10_2978",
         "15 min",
         "Essential needs",
         "Car",
         "611.0",
         "1.964410837963233",
         "784.0",
         "78092",
         "1856.2061595"
        ],
        [
         "3",
         "10_2978",
         "15 min",
         "Essential needs",
         "Public transit",
         "21.0",
         "1.964410837963233",
         "4.0",
         "78092",
         "1856.2061595"
        ],
        [
         "4",
         "10_2978",
         "15 min",
         "Health services",
         "Car",
         "460.0",
         "1.964410837963233",
         "592.5",
         "78092",
         "1856.2061595"
        ]
       ],
       "shape": {
        "columns": 9,
        "rows": 5
       }
      },
      "text/html": [
       "<div>\n",
       "<style scoped>\n",
       "    .dataframe tbody tr th:only-of-type {\n",
       "        vertical-align: middle;\n",
       "    }\n",
       "\n",
       "    .dataframe tbody tr th {\n",
       "        vertical-align: top;\n",
       "    }\n",
       "\n",
       "    .dataframe thead th {\n",
       "        text-align: right;\n",
       "    }\n",
       "</style>\n",
       "<table border=\"1\" class=\"dataframe\">\n",
       "  <thead>\n",
       "    <tr style=\"text-align: right;\">\n",
       "      <th></th>\n",
       "      <th>ID</th>\n",
       "      <th>time_threshold</th>\n",
       "      <th>amenity</th>\n",
       "      <th>mode</th>\n",
       "      <th>access_nh</th>\n",
       "      <th>d2h_nh</th>\n",
       "      <th>access_h</th>\n",
       "      <th>codgeo</th>\n",
       "      <th>weight_ind</th>\n",
       "    </tr>\n",
       "  </thead>\n",
       "  <tbody>\n",
       "    <tr>\n",
       "      <th>0</th>\n",
       "      <td>10_2978</td>\n",
       "      <td>15 min</td>\n",
       "      <td>Education</td>\n",
       "      <td>Car</td>\n",
       "      <td>255.0</td>\n",
       "      <td>1.964411</td>\n",
       "      <td>323.0</td>\n",
       "      <td>78092</td>\n",
       "      <td>1856.20616</td>\n",
       "    </tr>\n",
       "    <tr>\n",
       "      <th>1</th>\n",
       "      <td>10_2978</td>\n",
       "      <td>15 min</td>\n",
       "      <td>Education</td>\n",
       "      <td>Public transit</td>\n",
       "      <td>6.0</td>\n",
       "      <td>1.964411</td>\n",
       "      <td>4.0</td>\n",
       "      <td>78092</td>\n",
       "      <td>1856.20616</td>\n",
       "    </tr>\n",
       "    <tr>\n",
       "      <th>2</th>\n",
       "      <td>10_2978</td>\n",
       "      <td>15 min</td>\n",
       "      <td>Essential needs</td>\n",
       "      <td>Car</td>\n",
       "      <td>611.0</td>\n",
       "      <td>1.964411</td>\n",
       "      <td>784.0</td>\n",
       "      <td>78092</td>\n",
       "      <td>1856.20616</td>\n",
       "    </tr>\n",
       "    <tr>\n",
       "      <th>3</th>\n",
       "      <td>10_2978</td>\n",
       "      <td>15 min</td>\n",
       "      <td>Essential needs</td>\n",
       "      <td>Public transit</td>\n",
       "      <td>21.0</td>\n",
       "      <td>1.964411</td>\n",
       "      <td>4.0</td>\n",
       "      <td>78092</td>\n",
       "      <td>1856.20616</td>\n",
       "    </tr>\n",
       "    <tr>\n",
       "      <th>4</th>\n",
       "      <td>10_2978</td>\n",
       "      <td>15 min</td>\n",
       "      <td>Health services</td>\n",
       "      <td>Car</td>\n",
       "      <td>460.0</td>\n",
       "      <td>1.964411</td>\n",
       "      <td>592.5</td>\n",
       "      <td>78092</td>\n",
       "      <td>1856.20616</td>\n",
       "    </tr>\n",
       "  </tbody>\n",
       "</table>\n",
       "</div>"
      ],
      "text/plain": [
       "        ID time_threshold          amenity            mode  access_nh  \\\n",
       "0  10_2978         15 min        Education             Car      255.0   \n",
       "1  10_2978         15 min        Education  Public transit        6.0   \n",
       "2  10_2978         15 min  Essential needs             Car      611.0   \n",
       "3  10_2978         15 min  Essential needs  Public transit       21.0   \n",
       "4  10_2978         15 min  Health services             Car      460.0   \n",
       "\n",
       "     d2h_nh  access_h  codgeo  weight_ind  \n",
       "0  1.964411     323.0   78092  1856.20616  \n",
       "1  1.964411       4.0   78092  1856.20616  \n",
       "2  1.964411     784.0   78092  1856.20616  \n",
       "3  1.964411       4.0   78092  1856.20616  \n",
       "4  1.964411     592.5   78092  1856.20616  "
      ]
     },
     "execution_count": 5,
     "metadata": {},
     "output_type": "execute_result"
    }
   ],
   "source": [
    "df_i = pd.read_csv('dbs/data/individuals_dataset.csv')\n",
    "df_i = df_i[df_i['ID'].isin(df_ind['ID'].unique())].copy()\n",
    "df_i = df_i[['ID', 'CODGEO', 'WEIGHT_INDIV']].rename(columns={'CODGEO': 'codgeo', 'WEIGHT_INDIV': 'weight_ind'})\n",
    "df_ind = df_ind.merge(df_i, on='ID', how='left')\n",
    "\n",
    "# Get access disparity\n",
    "df_ind['gap'] = df_ind['access_nh']/df_ind['access_h']\n",
    "df_ind = df_ind.replace([np.inf, -np.inf], np.nan).dropna()\n",
    "df_ind = df_ind[df_ind['gap'] > 0]\n",
    "df_ind.to_parquet(\"results/activity_access_ind.parquet\", index=False)"
   ]
  },
  {
   "cell_type": "code",
   "execution_count": 77,
   "id": "b09e1ff5",
   "metadata": {},
   "outputs": [],
   "source": [
    "df_ind.to_parquet(\"results/activity_access_ind.parquet\", index=False)"
   ]
  },
  {
   "cell_type": "markdown",
   "id": "f52879e2",
   "metadata": {},
   "source": [
    "## 1. Aggregate at individual home area"
   ]
  },
  {
   "cell_type": "code",
   "execution_count": 79,
   "id": "e3f243a4",
   "metadata": {},
   "outputs": [],
   "source": [
    "def wmedian_area(x, weight_field='weight_day'):\n",
    "    \"\"\"\n",
    "    Weighted median function.\n",
    "    \"\"\"\n",
    "    if len(x) == 0:\n",
    "        return pd.Series(dict(access_h=np.nan, d2h_nh=np.nan, access_nh=np.nan))\n",
    "    d1 = DescrStatsW(x['access_h'], weights=x[weight_field])\n",
    "    d2 = DescrStatsW(x['d2h_nh'], weights=x[weight_field])\n",
    "    d3 = DescrStatsW(x['access_nh'], weights=x[weight_field])\n",
    "    return pd.Series(dict(access_h=d1.quantile(0.5, return_pandas=False)[0], \n",
    "                          d2h_nh=d2.quantile(0.5, return_pandas=False)[0],\n",
    "                          access_nh=d3.quantile(0.5, return_pandas=False)[0]))"
   ]
  },
  {
   "cell_type": "code",
   "execution_count": 80,
   "id": "2484d2ea",
   "metadata": {},
   "outputs": [
    {
     "name": "stderr",
     "output_type": "stream",
     "text": [
      "C:\\Users\\yuanlia\\AppData\\Local\\Temp\\ipykernel_14636\\673966993.py:3: FutureWarning: The default of observed=False is deprecated and will be changed to True in a future version of pandas. Pass observed=False to retain current behavior or observed=True to adopt the future default and silence this warning.\n",
      "  df_area = df_ind.groupby(['codgeo', 'time_threshold', 'amenity', 'mode']).progress_apply(lambda x: wmedian_area(x, weight_field='weight_ind')).reset_index()\n",
      "100%|██████████| 8868/8868 [00:38<00:00, 232.08it/s]\n"
     ]
    },
    {
     "data": {
      "application/vnd.microsoft.datawrangler.viewer.v0+json": {
       "columns": [
        {
         "name": "index",
         "rawType": "int64",
         "type": "integer"
        },
        {
         "name": "codgeo",
         "rawType": "int64",
         "type": "integer"
        },
        {
         "name": "time_threshold",
         "rawType": "category",
         "type": "unknown"
        },
        {
         "name": "amenity",
         "rawType": "category",
         "type": "unknown"
        },
        {
         "name": "mode",
         "rawType": "category",
         "type": "unknown"
        },
        {
         "name": "access_h",
         "rawType": "float64",
         "type": "float"
        },
        {
         "name": "d2h_nh",
         "rawType": "float64",
         "type": "float"
        },
        {
         "name": "access_nh",
         "rawType": "float64",
         "type": "float"
        }
       ],
       "ref": "a8eeb47b-bbda-4ee2-8933-d76d30dda118",
       "rows": [
        [
         "0",
         "75101",
         "15 min",
         "Education",
         "Car",
         "1386.0",
         "1.5758266009738506",
         "1447.0"
        ],
        [
         "1",
         "75101",
         "15 min",
         "Education",
         "Public transit",
         "126.0",
         "1.5758266009738506",
         "84.0"
        ],
        [
         "2",
         "75101",
         "15 min",
         "Essential needs",
         "Car",
         "5041.0",
         "1.5758266009738506",
         "4239.0"
        ],
        [
         "3",
         "75101",
         "15 min",
         "Essential needs",
         "Public transit",
         "628.0",
         "1.5758266009738506",
         "312.0"
        ],
        [
         "4",
         "75101",
         "15 min",
         "Health services",
         "Car",
         "1981.0",
         "1.5758266009738506",
         "2075.0"
        ]
       ],
       "shape": {
        "columns": 7,
        "rows": 5
       }
      },
      "text/html": [
       "<div>\n",
       "<style scoped>\n",
       "    .dataframe tbody tr th:only-of-type {\n",
       "        vertical-align: middle;\n",
       "    }\n",
       "\n",
       "    .dataframe tbody tr th {\n",
       "        vertical-align: top;\n",
       "    }\n",
       "\n",
       "    .dataframe thead th {\n",
       "        text-align: right;\n",
       "    }\n",
       "</style>\n",
       "<table border=\"1\" class=\"dataframe\">\n",
       "  <thead>\n",
       "    <tr style=\"text-align: right;\">\n",
       "      <th></th>\n",
       "      <th>codgeo</th>\n",
       "      <th>time_threshold</th>\n",
       "      <th>amenity</th>\n",
       "      <th>mode</th>\n",
       "      <th>access_h</th>\n",
       "      <th>d2h_nh</th>\n",
       "      <th>access_nh</th>\n",
       "    </tr>\n",
       "  </thead>\n",
       "  <tbody>\n",
       "    <tr>\n",
       "      <th>0</th>\n",
       "      <td>75101</td>\n",
       "      <td>15 min</td>\n",
       "      <td>Education</td>\n",
       "      <td>Car</td>\n",
       "      <td>1386.0</td>\n",
       "      <td>1.575827</td>\n",
       "      <td>1447.0</td>\n",
       "    </tr>\n",
       "    <tr>\n",
       "      <th>1</th>\n",
       "      <td>75101</td>\n",
       "      <td>15 min</td>\n",
       "      <td>Education</td>\n",
       "      <td>Public transit</td>\n",
       "      <td>126.0</td>\n",
       "      <td>1.575827</td>\n",
       "      <td>84.0</td>\n",
       "    </tr>\n",
       "    <tr>\n",
       "      <th>2</th>\n",
       "      <td>75101</td>\n",
       "      <td>15 min</td>\n",
       "      <td>Essential needs</td>\n",
       "      <td>Car</td>\n",
       "      <td>5041.0</td>\n",
       "      <td>1.575827</td>\n",
       "      <td>4239.0</td>\n",
       "    </tr>\n",
       "    <tr>\n",
       "      <th>3</th>\n",
       "      <td>75101</td>\n",
       "      <td>15 min</td>\n",
       "      <td>Essential needs</td>\n",
       "      <td>Public transit</td>\n",
       "      <td>628.0</td>\n",
       "      <td>1.575827</td>\n",
       "      <td>312.0</td>\n",
       "    </tr>\n",
       "    <tr>\n",
       "      <th>4</th>\n",
       "      <td>75101</td>\n",
       "      <td>15 min</td>\n",
       "      <td>Health services</td>\n",
       "      <td>Car</td>\n",
       "      <td>1981.0</td>\n",
       "      <td>1.575827</td>\n",
       "      <td>2075.0</td>\n",
       "    </tr>\n",
       "  </tbody>\n",
       "</table>\n",
       "</div>"
      ],
      "text/plain": [
       "   codgeo time_threshold          amenity            mode  access_h    d2h_nh  \\\n",
       "0   75101         15 min        Education             Car    1386.0  1.575827   \n",
       "1   75101         15 min        Education  Public transit     126.0  1.575827   \n",
       "2   75101         15 min  Essential needs             Car    5041.0  1.575827   \n",
       "3   75101         15 min  Essential needs  Public transit     628.0  1.575827   \n",
       "4   75101         15 min  Health services             Car    1981.0  1.575827   \n",
       "\n",
       "   access_nh  \n",
       "0     1447.0  \n",
       "1       84.0  \n",
       "2     4239.0  \n",
       "3      312.0  \n",
       "4     2075.0  "
      ]
     },
     "execution_count": 80,
     "metadata": {},
     "output_type": "execute_result"
    }
   ],
   "source": [
    "df_ind = pd.read_parquet(\"results/activity_access_ind.parquet\")\n",
    "tqdm.pandas()\n",
    "df_area = df_ind.groupby(['codgeo', 'time_threshold', 'amenity', 'mode']).progress_apply(lambda x: wmedian_area(x, weight_field='weight_ind')).reset_index()\n",
    "df_area.head()"
   ]
  },
  {
   "cell_type": "code",
   "execution_count": null,
   "id": "ba1ba66e",
   "metadata": {},
   "outputs": [
    {
     "data": {
      "application/vnd.microsoft.datawrangler.viewer.v0+json": {
       "columns": [
        {
         "name": "index",
         "rawType": "int64",
         "type": "integer"
        },
        {
         "name": "codgeo",
         "rawType": "int64",
         "type": "integer"
        },
        {
         "name": "time_threshold",
         "rawType": "category",
         "type": "unknown"
        },
        {
         "name": "amenity",
         "rawType": "category",
         "type": "unknown"
        },
        {
         "name": "mode",
         "rawType": "category",
         "type": "unknown"
        },
        {
         "name": "access_h",
         "rawType": "float64",
         "type": "float"
        },
        {
         "name": "d2h_nh",
         "rawType": "float64",
         "type": "float"
        },
        {
         "name": "access_nh",
         "rawType": "float64",
         "type": "float"
        },
        {
         "name": "insee_com",
         "rawType": "int32",
         "type": "integer"
        },
        {
         "name": "geometry",
         "rawType": "geometry",
         "type": "unknown"
        },
        {
         "name": "gap",
         "rawType": "float64",
         "type": "float"
        }
       ],
       "ref": "9ebc89a0-8946-49d4-b6a0-23899f163264",
       "rows": [
        [
         "0",
         "75101",
         "15 min",
         "Education",
         "Car",
         "1386.0",
         "1.5758266009738506",
         "1447.0",
         "75101",
         "POLYGON ((2.323471663253651 48.866371116066574, 2.324584010884946 48.86794945398466, 2.325876347626611 48.867528651742404, 2.326976410522479 48.86721647455357, 2.328541015134628 48.866610110383455, 2.331943434473313 48.86491859479835, 2.331355590927084 48.863988085514926, 2.324159314502435 48.86632463771572, 2.323738677324909 48.86638431658191, 2.323471663253651 48.866371116066574))",
         "1.044011544011544"
        ],
        [
         "17",
         "75101",
         "15 min",
         "Education",
         "Public transit",
         "126.0",
         "1.5758266009738506",
         "84.0",
         "75101",
         "POLYGON ((2.323471663253651 48.866371116066574, 2.324584010884946 48.86794945398466, 2.325876347626611 48.867528651742404, 2.326976410522479 48.86721647455357, 2.328541015134628 48.866610110383455, 2.331943434473313 48.86491859479835, 2.331355590927084 48.863988085514926, 2.324159314502435 48.86632463771572, 2.323738677324909 48.86638431658191, 2.323471663253651 48.866371116066574))",
         "0.6666666666666666"
        ],
        [
         "34",
         "75101",
         "15 min",
         "Essential needs",
         "Car",
         "5041.0",
         "1.5758266009738506",
         "4239.0",
         "75101",
         "POLYGON ((2.323471663253651 48.866371116066574, 2.324584010884946 48.86794945398466, 2.325876347626611 48.867528651742404, 2.326976410522479 48.86721647455357, 2.328541015134628 48.866610110383455, 2.331943434473313 48.86491859479835, 2.331355590927084 48.863988085514926, 2.324159314502435 48.86632463771572, 2.323738677324909 48.86638431658191, 2.323471663253651 48.866371116066574))",
         "0.8409045824241222"
        ],
        [
         "51",
         "75101",
         "15 min",
         "Essential needs",
         "Public transit",
         "628.0",
         "1.5758266009738506",
         "312.0",
         "75101",
         "POLYGON ((2.323471663253651 48.866371116066574, 2.324584010884946 48.86794945398466, 2.325876347626611 48.867528651742404, 2.326976410522479 48.86721647455357, 2.328541015134628 48.866610110383455, 2.331943434473313 48.86491859479835, 2.331355590927084 48.863988085514926, 2.324159314502435 48.86632463771572, 2.323738677324909 48.86638431658191, 2.323471663253651 48.866371116066574))",
         "0.4968152866242038"
        ],
        [
         "68",
         "75101",
         "15 min",
         "Health services",
         "Car",
         "1981.0",
         "1.5758266009738506",
         "2075.0",
         "75101",
         "POLYGON ((2.323471663253651 48.866371116066574, 2.324584010884946 48.86794945398466, 2.325876347626611 48.867528651742404, 2.326976410522479 48.86721647455357, 2.328541015134628 48.866610110383455, 2.331943434473313 48.86491859479835, 2.331355590927084 48.863988085514926, 2.324159314502435 48.86632463771572, 2.323738677324909 48.86638431658191, 2.323471663253651 48.866371116066574))",
         "1.0474507824331145"
        ]
       ],
       "shape": {
        "columns": 10,
        "rows": 5
       }
      },
      "text/html": [
       "<div>\n",
       "<style scoped>\n",
       "    .dataframe tbody tr th:only-of-type {\n",
       "        vertical-align: middle;\n",
       "    }\n",
       "\n",
       "    .dataframe tbody tr th {\n",
       "        vertical-align: top;\n",
       "    }\n",
       "\n",
       "    .dataframe thead th {\n",
       "        text-align: right;\n",
       "    }\n",
       "</style>\n",
       "<table border=\"1\" class=\"dataframe\">\n",
       "  <thead>\n",
       "    <tr style=\"text-align: right;\">\n",
       "      <th></th>\n",
       "      <th>codgeo</th>\n",
       "      <th>time_threshold</th>\n",
       "      <th>amenity</th>\n",
       "      <th>mode</th>\n",
       "      <th>access_h</th>\n",
       "      <th>d2h_nh</th>\n",
       "      <th>access_nh</th>\n",
       "      <th>insee_com</th>\n",
       "      <th>geometry</th>\n",
       "      <th>gap</th>\n",
       "    </tr>\n",
       "  </thead>\n",
       "  <tbody>\n",
       "    <tr>\n",
       "      <th>0</th>\n",
       "      <td>75101</td>\n",
       "      <td>15 min</td>\n",
       "      <td>Education</td>\n",
       "      <td>Car</td>\n",
       "      <td>1386.0</td>\n",
       "      <td>1.575827</td>\n",
       "      <td>1447.0</td>\n",
       "      <td>75101</td>\n",
       "      <td>POLYGON ((2.32347 48.86637, 2.32458 48.86795, ...</td>\n",
       "      <td>1.044012</td>\n",
       "    </tr>\n",
       "    <tr>\n",
       "      <th>17</th>\n",
       "      <td>75101</td>\n",
       "      <td>15 min</td>\n",
       "      <td>Education</td>\n",
       "      <td>Public transit</td>\n",
       "      <td>126.0</td>\n",
       "      <td>1.575827</td>\n",
       "      <td>84.0</td>\n",
       "      <td>75101</td>\n",
       "      <td>POLYGON ((2.32347 48.86637, 2.32458 48.86795, ...</td>\n",
       "      <td>0.666667</td>\n",
       "    </tr>\n",
       "    <tr>\n",
       "      <th>34</th>\n",
       "      <td>75101</td>\n",
       "      <td>15 min</td>\n",
       "      <td>Essential needs</td>\n",
       "      <td>Car</td>\n",
       "      <td>5041.0</td>\n",
       "      <td>1.575827</td>\n",
       "      <td>4239.0</td>\n",
       "      <td>75101</td>\n",
       "      <td>POLYGON ((2.32347 48.86637, 2.32458 48.86795, ...</td>\n",
       "      <td>0.840905</td>\n",
       "    </tr>\n",
       "    <tr>\n",
       "      <th>51</th>\n",
       "      <td>75101</td>\n",
       "      <td>15 min</td>\n",
       "      <td>Essential needs</td>\n",
       "      <td>Public transit</td>\n",
       "      <td>628.0</td>\n",
       "      <td>1.575827</td>\n",
       "      <td>312.0</td>\n",
       "      <td>75101</td>\n",
       "      <td>POLYGON ((2.32347 48.86637, 2.32458 48.86795, ...</td>\n",
       "      <td>0.496815</td>\n",
       "    </tr>\n",
       "    <tr>\n",
       "      <th>68</th>\n",
       "      <td>75101</td>\n",
       "      <td>15 min</td>\n",
       "      <td>Health services</td>\n",
       "      <td>Car</td>\n",
       "      <td>1981.0</td>\n",
       "      <td>1.575827</td>\n",
       "      <td>2075.0</td>\n",
       "      <td>75101</td>\n",
       "      <td>POLYGON ((2.32347 48.86637, 2.32458 48.86795, ...</td>\n",
       "      <td>1.047451</td>\n",
       "    </tr>\n",
       "  </tbody>\n",
       "</table>\n",
       "</div>"
      ],
      "text/plain": [
       "    codgeo time_threshold          amenity            mode  access_h  \\\n",
       "0    75101         15 min        Education             Car    1386.0   \n",
       "17   75101         15 min        Education  Public transit     126.0   \n",
       "34   75101         15 min  Essential needs             Car    5041.0   \n",
       "51   75101         15 min  Essential needs  Public transit     628.0   \n",
       "68   75101         15 min  Health services             Car    1981.0   \n",
       "\n",
       "      d2h_nh  access_nh  insee_com  \\\n",
       "0   1.575827     1447.0      75101   \n",
       "17  1.575827       84.0      75101   \n",
       "34  1.575827     4239.0      75101   \n",
       "51  1.575827      312.0      75101   \n",
       "68  1.575827     2075.0      75101   \n",
       "\n",
       "                                             geometry       gap  \n",
       "0   POLYGON ((2.32347 48.86637, 2.32458 48.86795, ...  1.044012  \n",
       "17  POLYGON ((2.32347 48.86637, 2.32458 48.86795, ...  0.666667  \n",
       "34  POLYGON ((2.32347 48.86637, 2.32458 48.86795, ...  0.840905  \n",
       "51  POLYGON ((2.32347 48.86637, 2.32458 48.86795, ...  0.496815  \n",
       "68  POLYGON ((2.32347 48.86637, 2.32458 48.86795, ...  1.047451  "
      ]
     },
     "execution_count": 83,
     "metadata": {},
     "output_type": "execute_result"
    }
   ],
   "source": [
    "gdf = gpd.read_file('dbs/geo/paris_iris.geojson')\n",
    "gdf = pd.merge(df_area, gdf[['insee_com', 'geometry']], right_on='insee_com', left_on='codgeo', how='left')\n",
    "gdf.loc[:, 'gap'] = gdf['access_nh'] / gdf['access_h']\n",
    "gdf.drop_duplicates(subset=['codgeo', 'time_threshold', 'amenity', 'mode'], inplace=True)\n",
    "gdf.head()"
   ]
  },
  {
   "cell_type": "code",
   "execution_count": 84,
   "id": "13ec1df7",
   "metadata": {},
   "outputs": [],
   "source": [
    "gpd.GeoDataFrame(gdf, geometry='geometry').drop(columns=['codgeo']).to_file('results/activity_access_ind_area.gpkg', \n",
    "                                                                            driver='GPKG', layer='activity_access_ind_area')"
   ]
  },
  {
   "cell_type": "markdown",
   "id": "f1649bde",
   "metadata": {},
   "source": [
    "## 2. Distributions - access disparity\n"
   ]
  },
  {
   "cell_type": "code",
   "execution_count": 6,
   "id": "547d0e69",
   "metadata": {},
   "outputs": [],
   "source": [
    "def get_bins(data=None, col_name=None, weights=None, bin_num=None, weight_lb=True, log_scale=True):\n",
    "    lower, upper = min(data[col_name]), max(data[col_name])\n",
    "    if log_scale:\n",
    "        bins = np.logspace(np.log(lower), np.log(upper), bin_num)\n",
    "    else:\n",
    "        bins = np.linspace(lower, upper, bin_num)\n",
    "    # Use weights in the histogram calculation\n",
    "    if weight_lb:\n",
    "        hist, edges = np.histogram(data[col_name], bins=bins, weights=data[weights], density=True)\n",
    "    else:\n",
    "        hist, edges = np.histogram(data[col_name], bins=bins, density=True)\n",
    "    # Normalize to get fractions (relative frequencies)\n",
    "    #hist_fraction = hist / hist.sum()\n",
    "    x = (edges[1:] + edges[:-1]) / 2\n",
    "    \n",
    "    xx, yy = zip(*[(i, j) for (i, j) in zip(x, hist) if j > 0])\n",
    "    return data[col_name].median(), xx, yy\n",
    "\n",
    "\n",
    "def long_tail_distr(data1=None, x_lb=None, y_lb=None, col_name=None, bin_num=50):\n",
    "    md_value1, xx1, yy1 = get_bins(data=data1, col_name=col_name, weights='weight_ind', bin_num=bin_num)\n",
    "    fig, ax = plt.subplots()\n",
    "    ax.plot(xx1, yy1, marker='.', label='Census')\n",
    "    plt.axvline(x=md_value1, color='r', linestyle='dashed', linewidth=1)\n",
    "    ax.set_xscale('log')\n",
    "    ax.set_yscale('log')\n",
    "    ax.set_xlabel(x_lb)\n",
    "    ax.set_ylabel(y_lb)\n",
    "    plt.legend()\n",
    "    return fig, ax"
   ]
  },
  {
   "cell_type": "code",
   "execution_count": 68,
   "id": "5afda9cf",
   "metadata": {},
   "outputs": [
    {
     "data": {
      "text/plain": [
       "(<Figure size 640x480 with 1 Axes>,\n",
       " <Axes: xlabel='Access gap', ylabel='Probability density'>)"
      ]
     },
     "execution_count": 68,
     "metadata": {},
     "output_type": "execute_result"
    },
    {
     "data": {
      "image/png": "[encoded data removed]",
      "text/plain": [
       "<Figure size 640x480 with 1 Axes>"
      ]
     },
     "metadata": {},
     "output_type": "display_data"
    }
   ],
   "source": [
    "df2plot = df_ind.loc[(df_ind['mode'] == 'Car') & (df_ind['time_threshold'] == '15 min') & (df_ind['amenity'] == 'Essential needs')].copy()\n",
    "long_tail_distr(data1=df2plot.dropna(), x_lb='Access gap', y_lb='Probability density', col_name='gap', bin_num=50)"
   ]
  },
  {
   "cell_type": "code",
   "execution_count": 4,
   "id": "d61c8740",
   "metadata": {},
   "outputs": [],
   "source": [
    "df_ind = pd.read_parquet(\"results/activity_access_ind.parquet\")"
   ]
  },
  {
   "cell_type": "markdown",
   "id": "23bed0f7",
   "metadata": {},
   "source": [
    "### 2.1 Data generation (access gap)"
   ]
  },
  {
   "cell_type": "code",
   "execution_count": 74,
   "id": "461094d6",
   "metadata": {},
   "outputs": [
    {
     "name": "stderr",
     "output_type": "stream",
     "text": [
      "C:\\Users\\yuanlia\\AppData\\Local\\Temp\\ipykernel_14636\\1193176171.py:2: FutureWarning: The default of observed=False is deprecated and will be changed to True in a future version of pandas. Pass observed=False to retain current behavior or observed=True to adopt the future default and silence this warning.\n",
      "  for name, group in df_ind.groupby(['mode', 'time_threshold', 'amenity']):\n"
     ]
    }
   ],
   "source": [
    "plot_df_list = []\n",
    "for name, group in df_ind.groupby(['mode', 'time_threshold', 'amenity']):\n",
    "    _, x, y = get_bins(data=group, col_name='gap', weights='weight_ind', bin_num=50)\n",
    "    temp = pd.DataFrame()\n",
    "    temp['x'] = x\n",
    "    temp['y'] = y\n",
    "    for var, n in zip(['mode', 'time_threshold', 'amenity'], name):\n",
    "        temp[var] = n\n",
    "    plot_df_list.append(temp)\n",
    "df2plot = pd.concat(plot_df_list)"
   ]
  },
  {
   "cell_type": "code",
   "execution_count": 76,
   "id": "3f00e162",
   "metadata": {},
   "outputs": [],
   "source": [
    "df2plot.to_parquet('results/activity_access_ind_distr.parquet', index=False)"
   ]
  },
  {
   "cell_type": "markdown",
   "id": "3b659c0d",
   "metadata": {},
   "source": [
    "### 2.2 Data generation (access home)"
   ]
  },
  {
   "cell_type": "code",
   "execution_count": 8,
   "id": "80a28c5c",
   "metadata": {},
   "outputs": [
    {
     "name": "stderr",
     "output_type": "stream",
     "text": [
      "C:\\Users\\yuanlia\\AppData\\Local\\Temp\\ipykernel_10280\\388665411.py:2: FutureWarning: The default of observed=False is deprecated and will be changed to True in a future version of pandas. Pass observed=False to retain current behavior or observed=True to adopt the future default and silence this warning.\n",
      "  for name, group in df_ind.groupby(['mode', 'time_threshold', 'amenity']):\n"
     ]
    }
   ],
   "source": [
    "plot_df_list = []\n",
    "for name, group in df_ind.groupby(['mode', 'time_threshold', 'amenity']):\n",
    "    _, x, y = get_bins(data=group, col_name='access_h', weights='weight_ind', bin_num=50)\n",
    "    temp = pd.DataFrame()\n",
    "    temp['x'] = x\n",
    "    temp['y'] = y\n",
    "    for var, n in zip(['mode', 'time_threshold', 'amenity'], name):\n",
    "        temp[var] = n\n",
    "    plot_df_list.append(temp)\n",
    "df2plot = pd.concat(plot_df_list)\n",
    "df2plot.to_parquet('results/activity_access_h_ind_distr.parquet', index=False)"
   ]
  },
  {
   "cell_type": "markdown",
   "id": "719c3f74",
   "metadata": {},
   "source": [
    "## 3. Modeling - predict access disparity\n",
    "### 3.1 Individual preparation"
   ]
  },
  {
   "cell_type": "code",
   "execution_count": 60,
   "id": "930ac43c",
   "metadata": {},
   "outputs": [
    {
     "name": "stdout",
     "output_type": "stream",
     "text": [
      "Index(['ID', 'CODGEO', 'AREA_NAME', 'SEX', 'AGE', 'DIPLOMA', 'PRO_CAT',\n",
      "       'TYPE_HOUSE', 'NBPERS_HOUSE', 'NB_10', 'NB_11_17', 'NB_18_24',\n",
      "       'NB_25_64', 'NB_65', 'PMR', 'DRIVING_LICENCE', 'NB_CAR', 'TWO_WHEELER',\n",
      "       'BIKE', 'ELECT_SCOOTER', 'NAVIGO_SUB', 'IMAGINER_SUB', 'OTHER_SUB_PT',\n",
      "       'BIKE_SUB', 'NSM_SUB', 'WEIGHT_INDIV', 'GPS_RECORD'],\n",
      "      dtype='object')\n"
     ]
    }
   ],
   "source": [
    "df = pd.read_parquet(\"results/activity_access_ind.parquet\")\n",
    "df_i = pd.read_csv('dbs/data/individuals_dataset.csv')\n",
    "df_i = df_i[df_i['ID'].isin(df['ID'].unique())].copy()\n",
    "print(df_i.columns)\n",
    "df_i = df_i[['ID', 'SEX', 'AGE', 'DIPLOMA', 'TYPE_HOUSE', 'NB_CAR', \n",
    "             'BIKE', 'TWO_WHEELER', 'ELECT_SCOOTER', \n",
    "             'NAVIGO_SUB', 'IMAGINER_SUB', 'OTHER_SUB_PT', 'BIKE_SUB', 'NSM_SUB', \n",
    "             'WEIGHT_INDIV']]"
   ]
  },
  {
   "cell_type": "markdown",
   "id": "4a17f5f5",
   "metadata": {},
   "source": [
    "#### Diploma"
   ]
  },
  {
   "cell_type": "code",
   "execution_count": 61,
   "id": "1ae75a9a",
   "metadata": {},
   "outputs": [
    {
     "name": "stdout",
     "output_type": "stream",
     "text": [
      "[nan\n",
      " \"5-year-and-above higher education degree: Master's 2, DEA, DESS, Grande École Diploma, Doctorate, etc.\"\n",
      " '3–4-year higher education degree: Licence, Professional Licence, Master 1, or equivalent'\n",
      " 'Lower secondary certificate (Brevet) or equivalent'\n",
      " 'Upper secondary diploma (Baccalauréat) or equivalent'\n",
      " 'Vocational certificate (CAP, BEP) or equivalent' 'No diploma']\n",
      "                                                           count  \\\n",
      "DIPLOMA                                                            \n",
      "Upper secondary diploma (Baccalauréat) or equiv...  3.096732e+06   \n",
      "5-year-and-above higher education degree: Maste...  1.842296e+06   \n",
      "3–4-year higher education degree: Licence, Prof...  1.232806e+06   \n",
      "Vocational certificate (CAP, BEP) or equivalent     1.083715e+06   \n",
      "Lower secondary certificate (Brevet) or equivalent  6.407201e+05   \n",
      "No diploma                                          1.868750e+05   \n",
      "\n",
      "                                                    cumulative_share  \n",
      "DIPLOMA                                                               \n",
      "Upper secondary diploma (Baccalauréat) or equiv...          0.383110  \n",
      "5-year-and-above higher education degree: Maste...          0.611028  \n",
      "3–4-year higher education degree: Licence, Prof...          0.763544  \n",
      "Vocational certificate (CAP, BEP) or equivalent             0.897615  \n",
      "Lower secondary certificate (Brevet) or equivalent          0.976881  \n",
      "No diploma                                                  1.000000  \n"
     ]
    }
   ],
   "source": [
    "# Process diploma distribution\n",
    "diploma_dist = (\n",
    "    df_i.groupby(\"DIPLOMA\")[\"WEIGHT_INDIV\"]\n",
    "    .sum()\n",
    "    .sort_values(ascending=False)\n",
    ")\n",
    "\n",
    "# Compute cumulative share\n",
    "diploma_cumshare = (\n",
    "    diploma_dist / diploma_dist.sum()\n",
    ").cumsum()\n",
    "\n",
    "# Combine both counts and cumulative share into one DataFrame\n",
    "diploma_summary = pd.DataFrame({\n",
    "    \"count\": diploma_dist,\n",
    "    \"cumulative_share\": diploma_cumshare\n",
    "})\n",
    "\n",
    "print(df_i['DIPLOMA'].unique())\n",
    "print(diploma_summary)\n",
    "\n",
    "diploma_order = {\n",
    "    'No diploma': 0,\n",
    "    'Vocational certificate (CAP, BEP) or equivalent': 1,\n",
    "    'Lower secondary certificate (Brevet) or equivalent': 2,\n",
    "    'Upper secondary diploma (Baccalauréat) or equivalent': 3,\n",
    "    '3–4-year higher education degree: Licence, Professional Licence, Master 1, or equivalent': 4,\n",
    "    \"5-year-and-above higher education degree: Master's 2, DEA, DESS, Grande École Diploma, Doctorate, etc.\": 5\n",
    "}   # Missing values set to 9\n"
   ]
  },
  {
   "cell_type": "markdown",
   "id": "295d8567",
   "metadata": {},
   "source": [
    "#### House type"
   ]
  },
  {
   "cell_type": "code",
   "execution_count": 62,
   "id": "dd281c41",
   "metadata": {},
   "outputs": [
    {
     "name": "stdout",
     "output_type": "stream",
     "text": [
      "['In a couple with child(ren)' 'Living alone'\n",
      " 'In a couple without children'\n",
      " 'Single parent (divorced / separated / widowed)'\n",
      " 'Living with one or both parents'\n",
      " 'Another family member in the household'\n",
      " 'Not related to other household members'\n",
      " 'In a shared apartment (flat-sharing)']\n"
     ]
    }
   ],
   "source": [
    "print(df_i['TYPE_HOUSE'].unique())\n",
    "\n",
    "household_order = {\n",
    "    'Living alone': 0,\n",
    "    'In a couple without children': 1,\n",
    "    'Single parent (divorced / separated / widowed)': 2,\n",
    "    'Living with one or both parents': 3,\n",
    "    'Not related to other household members': 4,\n",
    "    'In a shared apartment (flat-sharing)': 5,\n",
    "    'In a couple with child(ren)': 6,\n",
    "    'Another family member in the household': 7\n",
    "}"
   ]
  },
  {
   "cell_type": "markdown",
   "id": "fa124b41",
   "metadata": {},
   "source": [
    "#### No. of mobility equipment"
   ]
  },
  {
   "cell_type": "code",
   "execution_count": 63,
   "id": "38ddb4e0",
   "metadata": {},
   "outputs": [
    {
     "data": {
      "text/plain": [
       "(array(['2', '0', '1', '3', '4+'], dtype=object),\n",
       " array(['1', '0', '2', '3', '4+'], dtype=object),\n",
       " array(['0', '1', '2', '3', '4+'], dtype=object))"
      ]
     },
     "execution_count": 63,
     "metadata": {},
     "output_type": "execute_result"
    }
   ],
   "source": [
    "df_i['BIKE'].unique(), df_i['TWO_WHEELER'].unique(), df_i['ELECT_SCOOTER'].unique()"
   ]
  },
  {
   "cell_type": "markdown",
   "id": "45850d0e",
   "metadata": {},
   "source": [
    "#### Public transit subscription"
   ]
  },
  {
   "cell_type": "code",
   "execution_count": 64,
   "id": "f1ecf0e4",
   "metadata": {},
   "outputs": [
    {
     "name": "stdout",
     "output_type": "stream",
     "text": [
      "[False True nan]\n",
      "[False  True]\n",
      "[False  True]\n",
      "[False  True]\n",
      "[False  True]\n"
     ]
    }
   ],
   "source": [
    "for var in ['NAVIGO_SUB', 'IMAGINER_SUB', 'OTHER_SUB_PT', 'BIKE_SUB', 'NSM_SUB']:\n",
    "    print(df_i[var].unique())"
   ]
  },
  {
   "cell_type": "code",
   "execution_count": 65,
   "id": "103b405c",
   "metadata": {},
   "outputs": [
    {
     "name": "stderr",
     "output_type": "stream",
     "text": [
      "C:\\Users\\yuanlia\\AppData\\Local\\Temp\\ipykernel_11196\\1514852913.py:4: FutureWarning: Downcasting object dtype arrays on .fillna, .ffill, .bfill is deprecated and will change in a future version. Call result.infer_objects(copy=False) instead. To opt-in to the future behavior, set `pd.set_option('future.no_silent_downcasting', True)`\n",
      "  df_i['pt_sub'] = df_i[subs].fillna(False).any(axis=1)\n"
     ]
    }
   ],
   "source": [
    "subs = ['NAVIGO_SUB', 'IMAGINER_SUB', 'OTHER_SUB_PT', 'BIKE_SUB', 'NSM_SUB']\n",
    "\n",
    "# Set pt_sub to True if any of the listed variables are True (ignoring NaNs)\n",
    "df_i['pt_sub'] = df_i[subs].fillna(False).any(axis=1)"
   ]
  },
  {
   "cell_type": "code",
   "execution_count": 66,
   "id": "03ba9e0f",
   "metadata": {},
   "outputs": [
    {
     "data": {
      "text/plain": [
       "Index(['ID', 'Gender', 'Age', 'Education', 'Household_type', 'Car_no',\n",
       "       'Bike_no', 'Two_wheeler_no', 'Escooter_no', 'pt_sub'],\n",
       "      dtype='object')"
      ]
     },
     "execution_count": 66,
     "metadata": {},
     "output_type": "execute_result"
    }
   ],
   "source": [
    "df_i = df_i[['ID', 'SEX', 'AGE', 'DIPLOMA', 'TYPE_HOUSE', 'NB_CAR', \n",
    "             'BIKE', 'TWO_WHEELER', 'ELECT_SCOOTER', \n",
    "             'pt_sub']]\n",
    "df_i.rename(columns={'SEX': 'Gender', \n",
    "                     'AGE': 'Age', \n",
    "                     'DIPLOMA': 'Education', \n",
    "                     'TYPE_HOUSE': 'Household_type', \n",
    "                     'NB_CAR': 'Car_no', \n",
    "                     'BIKE': 'Bike_no', \n",
    "                     'TWO_WHEELER': 'Two_wheeler_no',\n",
    "                     'ELECT_SCOOTER': 'Escooter_no'}, inplace=True)\n",
    "df_i.columns"
   ]
  },
  {
   "cell_type": "code",
   "execution_count": 67,
   "id": "adcc39fa",
   "metadata": {},
   "outputs": [
    {
     "data": {
      "application/vnd.microsoft.datawrangler.viewer.v0+json": {
       "columns": [
        {
         "name": "index",
         "rawType": "int64",
         "type": "integer"
        },
        {
         "name": "ID",
         "rawType": "object",
         "type": "string"
        },
        {
         "name": "Gender",
         "rawType": "object",
         "type": "string"
        },
        {
         "name": "Age",
         "rawType": "int64",
         "type": "integer"
        },
        {
         "name": "Education",
         "rawType": "float64",
         "type": "float"
        },
        {
         "name": "Household_type",
         "rawType": "int64",
         "type": "integer"
        },
        {
         "name": "Car_no",
         "rawType": "int64",
         "type": "integer"
        },
        {
         "name": "Bike_no",
         "rawType": "object",
         "type": "string"
        },
        {
         "name": "Two_wheeler_no",
         "rawType": "object",
         "type": "string"
        },
        {
         "name": "Escooter_no",
         "rawType": "object",
         "type": "string"
        },
        {
         "name": "pt_sub",
         "rawType": "bool",
         "type": "boolean"
        }
       ],
       "ref": "8f5e7421-2906-4bf5-9924-aad5add31f3f",
       "rows": [
        [
         "0",
         "10_2978",
         "Woman",
         "41",
         "9.0",
         "6",
         "2",
         "2",
         "1",
         "0",
         "False"
        ],
        [
         "1",
         "10_2980",
         "Man",
         "30",
         "5.0",
         "0",
         "0",
         "0",
         "0",
         "0",
         "True"
        ],
        [
         "2",
         "10_2981",
         "Man",
         "38",
         "5.0",
         "1",
         "1",
         "1",
         "0",
         "0",
         "True"
        ],
        [
         "3",
         "10_2982",
         "Man",
         "43",
         "4.0",
         "2",
         "1",
         "2",
         "0",
         "0",
         "True"
        ],
        [
         "4",
         "10_2984",
         "Woman",
         "39",
         "5.0",
         "0",
         "1",
         "1",
         "0",
         "0",
         "True"
        ]
       ],
       "shape": {
        "columns": 10,
        "rows": 5
       }
      },
      "text/html": [
       "<div>\n",
       "<style scoped>\n",
       "    .dataframe tbody tr th:only-of-type {\n",
       "        vertical-align: middle;\n",
       "    }\n",
       "\n",
       "    .dataframe tbody tr th {\n",
       "        vertical-align: top;\n",
       "    }\n",
       "\n",
       "    .dataframe thead th {\n",
       "        text-align: right;\n",
       "    }\n",
       "</style>\n",
       "<table border=\"1\" class=\"dataframe\">\n",
       "  <thead>\n",
       "    <tr style=\"text-align: right;\">\n",
       "      <th></th>\n",
       "      <th>ID</th>\n",
       "      <th>Gender</th>\n",
       "      <th>Age</th>\n",
       "      <th>Education</th>\n",
       "      <th>Household_type</th>\n",
       "      <th>Car_no</th>\n",
       "      <th>Bike_no</th>\n",
       "      <th>Two_wheeler_no</th>\n",
       "      <th>Escooter_no</th>\n",
       "      <th>pt_sub</th>\n",
       "    </tr>\n",
       "  </thead>\n",
       "  <tbody>\n",
       "    <tr>\n",
       "      <th>0</th>\n",
       "      <td>10_2978</td>\n",
       "      <td>Woman</td>\n",
       "      <td>41</td>\n",
       "      <td>9.0</td>\n",
       "      <td>6</td>\n",
       "      <td>2</td>\n",
       "      <td>2</td>\n",
       "      <td>1</td>\n",
       "      <td>0</td>\n",
       "      <td>False</td>\n",
       "    </tr>\n",
       "    <tr>\n",
       "      <th>1</th>\n",
       "      <td>10_2980</td>\n",
       "      <td>Man</td>\n",
       "      <td>30</td>\n",
       "      <td>5.0</td>\n",
       "      <td>0</td>\n",
       "      <td>0</td>\n",
       "      <td>0</td>\n",
       "      <td>0</td>\n",
       "      <td>0</td>\n",
       "      <td>True</td>\n",
       "    </tr>\n",
       "    <tr>\n",
       "      <th>2</th>\n",
       "      <td>10_2981</td>\n",
       "      <td>Man</td>\n",
       "      <td>38</td>\n",
       "      <td>5.0</td>\n",
       "      <td>1</td>\n",
       "      <td>1</td>\n",
       "      <td>1</td>\n",
       "      <td>0</td>\n",
       "      <td>0</td>\n",
       "      <td>True</td>\n",
       "    </tr>\n",
       "    <tr>\n",
       "      <th>3</th>\n",
       "      <td>10_2982</td>\n",
       "      <td>Man</td>\n",
       "      <td>43</td>\n",
       "      <td>4.0</td>\n",
       "      <td>2</td>\n",
       "      <td>1</td>\n",
       "      <td>2</td>\n",
       "      <td>0</td>\n",
       "      <td>0</td>\n",
       "      <td>True</td>\n",
       "    </tr>\n",
       "    <tr>\n",
       "      <th>4</th>\n",
       "      <td>10_2984</td>\n",
       "      <td>Woman</td>\n",
       "      <td>39</td>\n",
       "      <td>5.0</td>\n",
       "      <td>0</td>\n",
       "      <td>1</td>\n",
       "      <td>1</td>\n",
       "      <td>0</td>\n",
       "      <td>0</td>\n",
       "      <td>True</td>\n",
       "    </tr>\n",
       "  </tbody>\n",
       "</table>\n",
       "</div>"
      ],
      "text/plain": [
       "        ID Gender  Age  Education  Household_type  Car_no Bike_no  \\\n",
       "0  10_2978  Woman   41        9.0               6       2       2   \n",
       "1  10_2980    Man   30        5.0               0       0       0   \n",
       "2  10_2981    Man   38        5.0               1       1       1   \n",
       "3  10_2982    Man   43        4.0               2       1       2   \n",
       "4  10_2984  Woman   39        5.0               0       1       1   \n",
       "\n",
       "  Two_wheeler_no Escooter_no  pt_sub  \n",
       "0              1           0   False  \n",
       "1              0           0    True  \n",
       "2              0           0    True  \n",
       "3              0           0    True  \n",
       "4              0           0    True  "
      ]
     },
     "execution_count": 67,
     "metadata": {},
     "output_type": "execute_result"
    }
   ],
   "source": [
    "df_i['Education'] = df_i['Education'].map(diploma_order)\n",
    "df_i['Education'] = df_i['Education'].fillna(9)\n",
    "df_i['Household_type'] = df_i['Household_type'].map(household_order)\n",
    "df_i.head()"
   ]
  },
  {
   "cell_type": "code",
   "execution_count": 68,
   "id": "7abcc99a",
   "metadata": {},
   "outputs": [
    {
     "data": {
      "application/vnd.microsoft.datawrangler.viewer.v0+json": {
       "columns": [
        {
         "name": "index",
         "rawType": "int64",
         "type": "integer"
        },
        {
         "name": "ID",
         "rawType": "object",
         "type": "string"
        },
        {
         "name": "time_threshold",
         "rawType": "category",
         "type": "unknown"
        },
        {
         "name": "amenity",
         "rawType": "category",
         "type": "unknown"
        },
        {
         "name": "mode",
         "rawType": "category",
         "type": "unknown"
        },
        {
         "name": "access_nh",
         "rawType": "float64",
         "type": "float"
        },
        {
         "name": "d2h_nh",
         "rawType": "float64",
         "type": "float"
        },
        {
         "name": "access_h",
         "rawType": "float64",
         "type": "float"
        },
        {
         "name": "codgeo",
         "rawType": "int64",
         "type": "integer"
        },
        {
         "name": "weight_ind",
         "rawType": "float64",
         "type": "float"
        },
        {
         "name": "gap",
         "rawType": "float64",
         "type": "float"
        },
        {
         "name": "Gender",
         "rawType": "object",
         "type": "string"
        },
        {
         "name": "Age",
         "rawType": "int64",
         "type": "integer"
        },
        {
         "name": "Education",
         "rawType": "float64",
         "type": "float"
        },
        {
         "name": "Household_type",
         "rawType": "int64",
         "type": "integer"
        },
        {
         "name": "Car_no",
         "rawType": "int64",
         "type": "integer"
        },
        {
         "name": "Bike_no",
         "rawType": "object",
         "type": "string"
        },
        {
         "name": "Two_wheeler_no",
         "rawType": "object",
         "type": "string"
        },
        {
         "name": "Escooter_no",
         "rawType": "object",
         "type": "string"
        },
        {
         "name": "pt_sub",
         "rawType": "bool",
         "type": "boolean"
        }
       ],
       "ref": "61c9fbf4-86ca-4013-b84f-f9a2cc2d3479",
       "rows": [
        [
         "0",
         "10_2978",
         "15 min",
         "Education",
         "Car",
         "255.0",
         "1.964410837963233",
         "323.0",
         "78092",
         "1856.2061595",
         "0.7894736842105263",
         "Woman",
         "41",
         "9.0",
         "6",
         "2",
         "2",
         "1",
         "0",
         "False"
        ],
        [
         "1",
         "10_2978",
         "15 min",
         "Education",
         "Public transit",
         "6.0",
         "1.964410837963233",
         "4.0",
         "78092",
         "1856.2061595",
         "1.5",
         "Woman",
         "41",
         "9.0",
         "6",
         "2",
         "2",
         "1",
         "0",
         "False"
        ],
        [
         "2",
         "10_2978",
         "15 min",
         "Essential needs",
         "Car",
         "611.0",
         "1.964410837963233",
         "784.0",
         "78092",
         "1856.2061595",
         "0.7793367346938775",
         "Woman",
         "41",
         "9.0",
         "6",
         "2",
         "2",
         "1",
         "0",
         "False"
        ],
        [
         "3",
         "10_2978",
         "15 min",
         "Essential needs",
         "Public transit",
         "21.0",
         "1.964410837963233",
         "4.0",
         "78092",
         "1856.2061595",
         "5.25",
         "Woman",
         "41",
         "9.0",
         "6",
         "2",
         "2",
         "1",
         "0",
         "False"
        ],
        [
         "4",
         "10_2978",
         "15 min",
         "Health services",
         "Car",
         "460.0",
         "1.964410837963233",
         "592.5",
         "78092",
         "1856.2061595",
         "0.7763713080168776",
         "Woman",
         "41",
         "9.0",
         "6",
         "2",
         "2",
         "1",
         "0",
         "False"
        ]
       ],
       "shape": {
        "columns": 19,
        "rows": 5
       }
      },
      "text/html": [
       "<div>\n",
       "<style scoped>\n",
       "    .dataframe tbody tr th:only-of-type {\n",
       "        vertical-align: middle;\n",
       "    }\n",
       "\n",
       "    .dataframe tbody tr th {\n",
       "        vertical-align: top;\n",
       "    }\n",
       "\n",
       "    .dataframe thead th {\n",
       "        text-align: right;\n",
       "    }\n",
       "</style>\n",
       "<table border=\"1\" class=\"dataframe\">\n",
       "  <thead>\n",
       "    <tr style=\"text-align: right;\">\n",
       "      <th></th>\n",
       "      <th>ID</th>\n",
       "      <th>time_threshold</th>\n",
       "      <th>amenity</th>\n",
       "      <th>mode</th>\n",
       "      <th>access_nh</th>\n",
       "      <th>d2h_nh</th>\n",
       "      <th>access_h</th>\n",
       "      <th>codgeo</th>\n",
       "      <th>weight_ind</th>\n",
       "      <th>gap</th>\n",
       "      <th>Gender</th>\n",
       "      <th>Age</th>\n",
       "      <th>Education</th>\n",
       "      <th>Household_type</th>\n",
       "      <th>Car_no</th>\n",
       "      <th>Bike_no</th>\n",
       "      <th>Two_wheeler_no</th>\n",
       "      <th>Escooter_no</th>\n",
       "      <th>pt_sub</th>\n",
       "    </tr>\n",
       "  </thead>\n",
       "  <tbody>\n",
       "    <tr>\n",
       "      <th>0</th>\n",
       "      <td>10_2978</td>\n",
       "      <td>15 min</td>\n",
       "      <td>Education</td>\n",
       "      <td>Car</td>\n",
       "      <td>255.0</td>\n",
       "      <td>1.964411</td>\n",
       "      <td>323.0</td>\n",
       "      <td>78092</td>\n",
       "      <td>1856.20616</td>\n",
       "      <td>0.789474</td>\n",
       "      <td>Woman</td>\n",
       "      <td>41</td>\n",
       "      <td>9.0</td>\n",
       "      <td>6</td>\n",
       "      <td>2</td>\n",
       "      <td>2</td>\n",
       "      <td>1</td>\n",
       "      <td>0</td>\n",
       "      <td>False</td>\n",
       "    </tr>\n",
       "    <tr>\n",
       "      <th>1</th>\n",
       "      <td>10_2978</td>\n",
       "      <td>15 min</td>\n",
       "      <td>Education</td>\n",
       "      <td>Public transit</td>\n",
       "      <td>6.0</td>\n",
       "      <td>1.964411</td>\n",
       "      <td>4.0</td>\n",
       "      <td>78092</td>\n",
       "      <td>1856.20616</td>\n",
       "      <td>1.500000</td>\n",
       "      <td>Woman</td>\n",
       "      <td>41</td>\n",
       "      <td>9.0</td>\n",
       "      <td>6</td>\n",
       "      <td>2</td>\n",
       "      <td>2</td>\n",
       "      <td>1</td>\n",
       "      <td>0</td>\n",
       "      <td>False</td>\n",
       "    </tr>\n",
       "    <tr>\n",
       "      <th>2</th>\n",
       "      <td>10_2978</td>\n",
       "      <td>15 min</td>\n",
       "      <td>Essential needs</td>\n",
       "      <td>Car</td>\n",
       "      <td>611.0</td>\n",
       "      <td>1.964411</td>\n",
       "      <td>784.0</td>\n",
       "      <td>78092</td>\n",
       "      <td>1856.20616</td>\n",
       "      <td>0.779337</td>\n",
       "      <td>Woman</td>\n",
       "      <td>41</td>\n",
       "      <td>9.0</td>\n",
       "      <td>6</td>\n",
       "      <td>2</td>\n",
       "      <td>2</td>\n",
       "      <td>1</td>\n",
       "      <td>0</td>\n",
       "      <td>False</td>\n",
       "    </tr>\n",
       "    <tr>\n",
       "      <th>3</th>\n",
       "      <td>10_2978</td>\n",
       "      <td>15 min</td>\n",
       "      <td>Essential needs</td>\n",
       "      <td>Public transit</td>\n",
       "      <td>21.0</td>\n",
       "      <td>1.964411</td>\n",
       "      <td>4.0</td>\n",
       "      <td>78092</td>\n",
       "      <td>1856.20616</td>\n",
       "      <td>5.250000</td>\n",
       "      <td>Woman</td>\n",
       "      <td>41</td>\n",
       "      <td>9.0</td>\n",
       "      <td>6</td>\n",
       "      <td>2</td>\n",
       "      <td>2</td>\n",
       "      <td>1</td>\n",
       "      <td>0</td>\n",
       "      <td>False</td>\n",
       "    </tr>\n",
       "    <tr>\n",
       "      <th>4</th>\n",
       "      <td>10_2978</td>\n",
       "      <td>15 min</td>\n",
       "      <td>Health services</td>\n",
       "      <td>Car</td>\n",
       "      <td>460.0</td>\n",
       "      <td>1.964411</td>\n",
       "      <td>592.5</td>\n",
       "      <td>78092</td>\n",
       "      <td>1856.20616</td>\n",
       "      <td>0.776371</td>\n",
       "      <td>Woman</td>\n",
       "      <td>41</td>\n",
       "      <td>9.0</td>\n",
       "      <td>6</td>\n",
       "      <td>2</td>\n",
       "      <td>2</td>\n",
       "      <td>1</td>\n",
       "      <td>0</td>\n",
       "      <td>False</td>\n",
       "    </tr>\n",
       "  </tbody>\n",
       "</table>\n",
       "</div>"
      ],
      "text/plain": [
       "        ID time_threshold          amenity            mode  access_nh  \\\n",
       "0  10_2978         15 min        Education             Car      255.0   \n",
       "1  10_2978         15 min        Education  Public transit        6.0   \n",
       "2  10_2978         15 min  Essential needs             Car      611.0   \n",
       "3  10_2978         15 min  Essential needs  Public transit       21.0   \n",
       "4  10_2978         15 min  Health services             Car      460.0   \n",
       "\n",
       "     d2h_nh  access_h  codgeo  weight_ind       gap Gender  Age  Education  \\\n",
       "0  1.964411     323.0   78092  1856.20616  0.789474  Woman   41        9.0   \n",
       "1  1.964411       4.0   78092  1856.20616  1.500000  Woman   41        9.0   \n",
       "2  1.964411     784.0   78092  1856.20616  0.779337  Woman   41        9.0   \n",
       "3  1.964411       4.0   78092  1856.20616  5.250000  Woman   41        9.0   \n",
       "4  1.964411     592.5   78092  1856.20616  0.776371  Woman   41        9.0   \n",
       "\n",
       "   Household_type  Car_no Bike_no Two_wheeler_no Escooter_no  pt_sub  \n",
       "0               6       2       2              1           0   False  \n",
       "1               6       2       2              1           0   False  \n",
       "2               6       2       2              1           0   False  \n",
       "3               6       2       2              1           0   False  \n",
       "4               6       2       2              1           0   False  "
      ]
     },
     "execution_count": 68,
     "metadata": {},
     "output_type": "execute_result"
    }
   ],
   "source": [
    "df = pd.merge(df, df_i, on='ID', how='left')\n",
    "df.head()"
   ]
  },
  {
   "cell_type": "code",
   "execution_count": 75,
   "id": "12c61706",
   "metadata": {},
   "outputs": [],
   "source": [
    "df.to_parquet('results/activity_access_ind_model.parquet', index=False)"
   ]
  },
  {
   "cell_type": "markdown",
   "id": "4623eb76",
   "metadata": {},
   "source": [
    "## 4. Add individuals' main mode used to modeling data"
   ]
  },
  {
   "cell_type": "code",
   "execution_count": 9,
   "id": "5156e157",
   "metadata": {},
   "outputs": [
    {
     "name": "stdout",
     "output_type": "stream",
     "text": [
      "Index(['KEY', 'ID', 'Day_EMG', 'Date_EMG', 'Day_Type', 'ID_Trip_Days',\n",
      "       'Type_Trip_OD', 'Area_O', 'Area_D', 'Code_INSEE_O', 'Code_INSEE_D',\n",
      "       'Zone_O', 'Zone_D', 'Date_O', 'Time_O', 'Date_D', 'Time_D', 'Duration',\n",
      "       'Purpose_O', 'Purpose_D', 'Main_Mode', 'Mode_1', 'Mode_2', 'Mode_3',\n",
      "       'Mode_4', 'Mode_5', 'Weight_Day'],\n",
      "      dtype='object')\n"
     ]
    }
   ],
   "source": [
    "df = pd.read_parquet('results/activity_access_ind_model.parquet')\n",
    "df_trips = pd.read_csv(\"dbs/data/trips_dataset.csv\")\n",
    "print(df_trips.columns)"
   ]
  },
  {
   "cell_type": "code",
   "execution_count": 12,
   "id": "60ea2d4c",
   "metadata": {},
   "outputs": [
    {
     "data": {
      "application/vnd.microsoft.datawrangler.viewer.v0+json": {
       "columns": [
        {
         "name": "index",
         "rawType": "int64",
         "type": "integer"
        },
        {
         "name": "ID",
         "rawType": "object",
         "type": "string"
        },
        {
         "name": "Main_Mode",
         "rawType": "object",
         "type": "string"
        },
        {
         "name": "Weight_Day",
         "rawType": "float64",
         "type": "float"
        }
       ],
       "ref": "3bed1b83-250a-4f9f-91a2-6e4904a0d496",
       "rows": [
        [
         "0",
         "10_2978",
         "WALKING",
         "2531.2962864"
        ],
        [
         "1",
         "10_2980",
         "WALKING",
         "2619.28860298"
        ],
        [
         "2",
         "10_2981",
         "WALKING",
         "2121.66788278"
        ],
        [
         "3",
         "10_2982",
         "PRIV_CAR_DRIVER",
         "747.887243779"
        ],
        [
         "4",
         "10_2984",
         "PRIV_CAR_DRIVER",
         "1989.39868665"
        ]
       ],
       "shape": {
        "columns": 3,
        "rows": 5
       }
      },
      "text/html": [
       "<div>\n",
       "<style scoped>\n",
       "    .dataframe tbody tr th:only-of-type {\n",
       "        vertical-align: middle;\n",
       "    }\n",
       "\n",
       "    .dataframe tbody tr th {\n",
       "        vertical-align: top;\n",
       "    }\n",
       "\n",
       "    .dataframe thead th {\n",
       "        text-align: right;\n",
       "    }\n",
       "</style>\n",
       "<table border=\"1\" class=\"dataframe\">\n",
       "  <thead>\n",
       "    <tr style=\"text-align: right;\">\n",
       "      <th></th>\n",
       "      <th>ID</th>\n",
       "      <th>Main_Mode</th>\n",
       "      <th>Weight_Day</th>\n",
       "    </tr>\n",
       "  </thead>\n",
       "  <tbody>\n",
       "    <tr>\n",
       "      <th>0</th>\n",
       "      <td>10_2978</td>\n",
       "      <td>WALKING</td>\n",
       "      <td>2531.296286</td>\n",
       "    </tr>\n",
       "    <tr>\n",
       "      <th>1</th>\n",
       "      <td>10_2980</td>\n",
       "      <td>WALKING</td>\n",
       "      <td>2619.288603</td>\n",
       "    </tr>\n",
       "    <tr>\n",
       "      <th>2</th>\n",
       "      <td>10_2981</td>\n",
       "      <td>WALKING</td>\n",
       "      <td>2121.667883</td>\n",
       "    </tr>\n",
       "    <tr>\n",
       "      <th>3</th>\n",
       "      <td>10_2982</td>\n",
       "      <td>PRIV_CAR_DRIVER</td>\n",
       "      <td>747.887244</td>\n",
       "    </tr>\n",
       "    <tr>\n",
       "      <th>4</th>\n",
       "      <td>10_2984</td>\n",
       "      <td>PRIV_CAR_DRIVER</td>\n",
       "      <td>1989.398687</td>\n",
       "    </tr>\n",
       "  </tbody>\n",
       "</table>\n",
       "</div>"
      ],
      "text/plain": [
       "        ID        Main_Mode   Weight_Day\n",
       "0  10_2978          WALKING  2531.296286\n",
       "1  10_2980          WALKING  2619.288603\n",
       "2  10_2981          WALKING  2121.667883\n",
       "3  10_2982  PRIV_CAR_DRIVER   747.887244\n",
       "4  10_2984  PRIV_CAR_DRIVER  1989.398687"
      ]
     },
     "execution_count": 12,
     "metadata": {},
     "output_type": "execute_result"
    }
   ],
   "source": [
    "# Group by ID and Main_Mode, then sum the weights\n",
    "mode_weights = df_trips.groupby(['ID', 'Main_Mode'])['Weight_Day'].sum().reset_index()\n",
    "\n",
    "# For each ID, select the Main_Mode with the highest total weight\n",
    "most_weighted_mode = mode_weights.loc[mode_weights.groupby('ID')['Weight_Day'].idxmax()].reset_index(drop=True)\n",
    "most_weighted_mode.head()"
   ]
  },
  {
   "cell_type": "code",
   "execution_count": 15,
   "id": "efe09e48",
   "metadata": {},
   "outputs": [
    {
     "name": "stderr",
     "output_type": "stream",
     "text": [
      "C:\\Users\\yuanlia\\AppData\\Local\\Temp\\ipykernel_11100\\2907983828.py:7: FutureWarning: \n",
      "\n",
      "Passing `palette` without assigning `hue` is deprecated and will be removed in v0.14.0. Assign the `x` variable to `hue` and set `legend=False` for the same effect.\n",
      "\n",
      "  sns.barplot(data=mode_counts, x='Main_Mode', y='Frequency', palette='viridis')\n"
     ]
    },
    {
     "data": {
      "image/png": "[encoded data removed]",
      "text/plain": [
       "<Figure size 800x500 with 1 Axes>"
      ]
     },
     "metadata": {},
     "output_type": "display_data"
    }
   ],
   "source": [
    "# Count frequency of each Main_Mode\n",
    "mode_counts = most_weighted_mode['Main_Mode'].value_counts().reset_index()\n",
    "mode_counts.columns = ['Main_Mode', 'Frequency']\n",
    "\n",
    "# Plot\n",
    "plt.figure(figsize=(8, 5))\n",
    "sns.barplot(data=mode_counts, x='Main_Mode', y='Frequency', palette='viridis')\n",
    "plt.xlabel('Most Weighted Main Mode')\n",
    "plt.ylabel('Number of Individuals')\n",
    "plt.title('Frequency of Most Weighted Main Mode by Individual')\n",
    "plt.xticks(rotation=45)\n",
    "plt.tight_layout()\n",
    "plt.show()"
   ]
  },
  {
   "cell_type": "code",
   "execution_count": 19,
   "id": "b749327d",
   "metadata": {},
   "outputs": [
    {
     "name": "stdout",
     "output_type": "stream",
     "text": [
      "['WALKING' 'PRIV_CAR_DRIVER' 'BUS' 'SUBWAY' 'TRAIN' 'ELECT_BIKE' 'TRAMWAY'\n",
      " 'BIKE' 'PRIV_CAR_PASSENGER' 'OTHER' 'TRAIN_EXPRESS' 'ELECT_SCOOTER'\n",
      " 'TWO_WHEELER' 'TAXI' 'LIGHT_COMM_VEHICLE']\n"
     ]
    },
    {
     "data": {
      "text/plain": [
       "array(['Active', 'Private car (driver)', 'Public transit', 'Micro',\n",
       "       'Private car (passenger)', 'Other', 'Taxi'], dtype=object)"
      ]
     },
     "execution_count": 19,
     "metadata": {},
     "output_type": "execute_result"
    }
   ],
   "source": [
    "print(most_weighted_mode.Main_Mode.unique())\n",
    "mode_simplify_dict = {'WALKING': 'Active',\n",
    "                      'PRIV_CAR_DRIVER': 'Private car (driver)',\n",
    "                      'BUS': 'Public transit',\n",
    "                      'SUBWAY': 'Public transit',\n",
    "                      'TRAIN': 'Public transit',\n",
    "                      'ELECT_BIKE': 'Micro',\n",
    "                      'TRAMWAY': 'Public transit',\n",
    "                      'BIKE': 'Active',\n",
    "                      'PRIV_CAR_PASSENGER': 'Private car (passenger)',\n",
    "                      'OTHER': 'Other',\n",
    "                      'TRAIN_EXPRESS': 'Public transit',\n",
    "                      'ELECT_SCOOTER': 'Micro',\n",
    "                      'TWO_WHEELER': 'Micro',\n",
    "                      'TAXI': 'Taxi',\n",
    "                      'LIGHT_COMM_VEHICLE': 'Other'}\n",
    "most_weighted_mode['main_mode'] = most_weighted_mode['Main_Mode'].map(mode_simplify_dict)\n",
    "most_weighted_mode['main_mode'].unique()"
   ]
  },
  {
   "cell_type": "code",
   "execution_count": 20,
   "id": "7663c22c",
   "metadata": {},
   "outputs": [
    {
     "data": {
      "text/plain": [
       "array(['Active', 'Private car (driver)', 'Public transit', 'Micro',\n",
       "       'Private car (passenger)', 'Other', 'Taxi'], dtype=object)"
      ]
     },
     "execution_count": 20,
     "metadata": {},
     "output_type": "execute_result"
    }
   ],
   "source": [
    "df = pd.merge(df, most_weighted_mode[['ID', 'main_mode']], how='left')\n",
    "df['main_mode'].unique()"
   ]
  },
  {
   "cell_type": "code",
   "execution_count": 21,
   "id": "5aba4813",
   "metadata": {},
   "outputs": [],
   "source": [
    "df.to_parquet('results/activity_access_ind_model.parquet', index=False)"
   ]
  }
 ],
 "metadata": {
  "kernelspec": {
   "display_name": "mobi",
   "language": "python",
   "name": "python3"
  },
  "language_info": {
   "codemirror_mode": {
    "name": "ipython",
    "version": 3
   },
   "file_extension": ".py",
   "mimetype": "text/x-python",
   "name": "python",
   "nbconvert_exporter": "python",
   "pygments_lexer": "ipython3",
   "version": "3.11.11"
  }
 },
 "nbformat": 4,
 "nbformat_minor": 5
}
