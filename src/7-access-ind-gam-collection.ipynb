{
 "cells": [
  {
   "cell_type": "markdown",
   "id": "63ebb954",
   "metadata": {},
   "source": [
    "# Check GAM modeling results"
   ]
  },
  {
   "cell_type": "code",
   "execution_count": 1,
   "id": "ee87817a",
   "metadata": {},
   "outputs": [
    {
     "name": "stdout",
     "output_type": "stream",
     "text": [
      "D:\\netmob25\n"
     ]
    }
   ],
   "source": [
    "%load_ext autoreload\n",
    "%autoreload 2\n",
    "%cd D:\\netmob25"
   ]
  },
  {
   "cell_type": "code",
   "execution_count": 2,
   "id": "e563f6f8",
   "metadata": {},
   "outputs": [],
   "source": [
    "# Load libs\n",
    "import pandas as pd\n",
    "import numpy as np\n",
    "import pyperclip\n",
    "from lib import helpers as helpers\n",
    "import shap\n",
    "import pickle"
   ]
  },
  {
   "cell_type": "code",
   "execution_count": 8,
   "id": "059de51c",
   "metadata": {},
   "outputs": [
    {
     "name": "stdout",
     "output_type": "stream",
     "text": [
      "Load data.\n",
      "d2h_nh, Age, access_h, time_threshold, amenity, mode, Gender, Education, Household_type, Car_no, Bike_no, Two_wheeler_no, Escooter_no, pt_sub, main_mode\n"
     ]
    }
   ],
   "source": [
    "var_cat = ['time_threshold', 'amenity', 'mode', 'Gender', 'Education', 'Household_type', \n",
    "            'Car_no', 'Bike_no', 'Two_wheeler_no', 'Escooter_no', 'pt_sub', 'main_mode']\n",
    "var_con = ['d2h_nh', 'Age', 'access_h']\n",
    "# Load data for modelling\n",
    "print('Load data.')\n",
    "df = pd.read_parquet(\"results/activity_access_ind_model.parquet\")\n",
    "df['log_disparity'] = np.log(df['gap'])\n",
    "\n",
    "# Step 4: Combine into final feature list\n",
    "features = var_con + var_cat\n",
    "pyperclip.copy('\\n'.join(features))\n",
    "print(', '.join(features))"
   ]
  },
  {
   "cell_type": "markdown",
   "id": "94563670",
   "metadata": {},
   "source": [
    "## 1. Check the model results"
   ]
  },
  {
   "cell_type": "code",
   "execution_count": 9,
   "id": "7ff7f0ff",
   "metadata": {},
   "outputs": [
    {
     "name": "stdout",
     "output_type": "stream",
     "text": [
      "Load data.\n",
      "{'rmse_train': 0.9420542971272369, 'r2_train': 0.4756669053057755, 'rmse_test': 0.9944761429059229, 'r2_test': 0.37724456390862293, 'model': 'all'}\n"
     ]
    }
   ],
   "source": [
    "perf_dict_list = []\n",
    "md = 'all'\n",
    "path2result = 'results/ebm/'\n",
    "gam_results = helpers.EBMResultsOrganizer(file_loc=path2result + f'model_{md}.p')\n",
    "gam_results.load_raw_data(select='all')\n",
    "\n",
    "# Feature performance\n",
    "perf = gam_results.performance()\n",
    "perf['model'] = md\n",
    "print(perf)\n"
   ]
  },
  {
   "cell_type": "code",
   "execution_count": 14,
   "id": "4c3545f4",
   "metadata": {},
   "outputs": [
    {
     "name": "stdout",
     "output_type": "stream",
     "text": [
      "12\n",
      "                                             Name      Color     Score\n",
      "2                                   Access (home)  steelblue  0.560609\n",
      "11                         Main mode of transport  steelblue  0.224028\n",
      "12  Distance to Home Neighborhood & Access (home)      black  0.190082\n",
      "0                   Distance to Home Neighborhood  steelblue  0.181680\n",
      "10                  Public Transport Subscription  steelblue  0.126418\n",
      "13         Access (home) & Main mode of transport      black  0.079116\n",
      "1                                             Age      coral  0.074552\n",
      "5                                  Household type      coral  0.071370\n",
      "6                                      Car number  steelblue  0.055251\n",
      "4                                       Education      coral  0.050368\n",
      "7                                     Bike number  steelblue  0.038633\n",
      "8                              Two-wheeler number  steelblue  0.011938\n",
      "9                                E-scooter number  steelblue  0.003595\n",
      "3                                          Gender      coral  0.001370\n"
     ]
    }
   ],
   "source": [
    "# Feature importance\n",
    "df_f = gam_results.feature_importance()\n",
    "df_f.to_csv(f'results/ebm/f_score.csv', index=False)\n",
    "print(len(df_f[df_f['Score'] > 0.01]))\n",
    "df_f.to_clipboard()\n",
    "print(df_f)"
   ]
  },
  {
   "cell_type": "code",
   "execution_count": 11,
   "id": "34fe7b12",
   "metadata": {},
   "outputs": [],
   "source": [
    "# Load feature effects\n",
    "gam_results.feature_scores()\n",
    "df_fscore_f = gam_results.single_feature_effect()\n",
    "df_fscore_f.to_csv(f'results/ebm/features.csv', index=False)"
   ]
  },
  {
   "cell_type": "code",
   "execution_count": 34,
   "id": "d0204901",
   "metadata": {},
   "outputs": [
    {
     "name": "stderr",
     "output_type": "stream",
     "text": [
      "D:\\netmob25\\lib\\helpers.py:184: FutureWarning: Setting an item of incompatible dtype is deprecated and will raise in a future error of pandas. Value '[ 0.          0.          0.         ... 35.47388251 35.47388251\n",
      " 35.47388251]' has dtype incompatible with int64, please explicitly cast to a compatible dtype first.\n",
      "  # Get the frequency of the interaction cells\n",
      "D:\\netmob25\\lib\\helpers.py:185: FutureWarning: Setting an item of incompatible dtype is deprecated and will raise in a future error of pandas. Value '[  1.     1.5    2.25 ... 505.   626.5  783.  ]' has dtype incompatible with int64, please explicitly cast to a compatible dtype first.\n",
      "  if var1 not in labels_cat:\n",
      "D:\\netmob25\\lib\\helpers.py:184: FutureWarning: Setting an item of incompatible dtype is deprecated and will raise in a future error of pandas. Value '[0.         0.         0.         0.         0.         0.\n",
      " 0.         0.         0.         0.         0.         0.\n",
      " 0.         0.         0.         0.         0.         0.\n",
      " 0.         0.         0.         0.         0.         0.\n",
      " 0.         0.         0.         0.         0.         0.\n",
      " 0.         0.         0.         0.         0.         0.\n",
      " 0.         0.         0.         0.         0.         0.\n",
      " 0.         0.         0.         0.         0.         0.\n",
      " 0.         0.         0.         0.         0.         0.\n",
      " 0.         0.         0.         0.         0.         0.\n",
      " 0.         0.         0.22422471 0.22422471 0.22422471 0.22422471\n",
      " 0.22422471 0.22422471 0.22422471 0.22422471 0.22422471 0.22422471\n",
      " 0.22422471 0.22422471 0.22422471 0.22422471 0.22422471 0.22422471\n",
      " 0.22422471 0.22422471 0.22422471 0.22422471 0.22422471 0.22422471\n",
      " 0.22422471 0.22422471 0.22422471 0.22422471 0.22422471 0.22422471\n",
      " 0.22422471 0.22422471 0.22422471 0.22422471 0.22422471 0.22422471\n",
      " 0.22422471 0.22422471 0.22422471 0.22422471 0.22422471 0.22422471\n",
      " 0.22422471 0.22422471 0.22422471 0.22422471 0.22422471 0.22422471\n",
      " 0.22422471 0.22422471 0.22422471 0.22422471 0.22422471 0.22422471\n",
      " 0.22422471 0.22422471 0.22422471 0.22422471 0.22422471 0.22422471\n",
      " 0.22422471 0.22422471 0.22422471 0.22422471 0.34494746 0.34494746\n",
      " 0.34494746 0.34494746 0.34494746 0.34494746 0.34494746 0.34494746\n",
      " 0.34494746 0.34494746 0.34494746 0.34494746 0.34494746 0.34494746\n",
      " 0.34494746 0.34494746 0.34494746 0.34494746 0.34494746 0.34494746\n",
      " 0.34494746 0.34494746 0.34494746 0.34494746 0.34494746 0.34494746\n",
      " 0.34494746 0.34494746 0.34494746 0.34494746 0.34494746 0.34494746\n",
      " 0.34494746 0.34494746 0.34494746 0.34494746 0.34494746 0.34494746\n",
      " 0.34494746 0.34494746 0.34494746 0.34494746 0.34494746 0.34494746\n",
      " 0.34494746 0.34494746 0.34494746 0.34494746 0.34494746 0.34494746\n",
      " 0.34494746 0.34494746 0.34494746 0.34494746 0.34494746 0.34494746\n",
      " 0.34494746 0.34494746 0.34494746 0.34494746 0.34494746 0.34494746\n",
      " 0.44390223 0.44390223 0.44390223 0.44390223 0.44390223 0.44390223\n",
      " 0.44390223 0.44390223 0.44390223 0.44390223 0.44390223 0.44390223\n",
      " 0.44390223 0.44390223 0.44390223 0.44390223 0.44390223 0.44390223\n",
      " 0.44390223 0.44390223 0.44390223 0.44390223 0.44390223 0.44390223\n",
      " 0.44390223 0.44390223 0.44390223 0.44390223 0.44390223 0.44390223\n",
      " 0.44390223 0.44390223 0.44390223 0.44390223 0.44390223 0.44390223\n",
      " 0.44390223 0.44390223 0.44390223 0.44390223 0.44390223 0.44390223\n",
      " 0.44390223 0.44390223 0.44390223 0.44390223 0.44390223 0.44390223\n",
      " 0.44390223 0.44390223 0.44390223 0.44390223 0.44390223 0.44390223\n",
      " 0.44390223 0.44390223 0.44390223 0.44390223 0.44390223 0.44390223\n",
      " 0.44390223 0.44390223 0.52127012 0.52127012 0.52127012 0.52127012\n",
      " 0.52127012 0.52127012 0.52127012 0.52127012 0.52127012 0.52127012\n",
      " 0.52127012 0.52127012 0.52127012 0.52127012 0.52127012 0.52127012\n",
      " 0.52127012 0.52127012 0.52127012 0.52127012 0.52127012 0.52127012\n",
      " 0.52127012 0.52127012 0.52127012 0.52127012 0.52127012 0.52127012\n",
      " 0.52127012 0.52127012 0.52127012 0.52127012 0.52127012 0.52127012\n",
      " 0.52127012 0.52127012 0.52127012 0.52127012 0.52127012 0.52127012\n",
      " 0.52127012 0.52127012 0.52127012 0.52127012 0.52127012 0.52127012\n",
      " 0.52127012 0.52127012 0.52127012 0.52127012 0.52127012 0.52127012\n",
      " 0.52127012 0.52127012 0.52127012 0.52127012 0.52127012 0.52127012\n",
      " 0.52127012 0.52127012 0.52127012 0.52127012 0.57127103 0.57127103\n",
      " 0.57127103 0.57127103 0.57127103 0.57127103 0.57127103 0.57127103\n",
      " 0.57127103 0.57127103 0.57127103 0.57127103 0.57127103 0.57127103\n",
      " 0.57127103 0.57127103 0.57127103 0.57127103 0.57127103 0.57127103\n",
      " 0.57127103 0.57127103 0.57127103 0.57127103 0.57127103 0.57127103\n",
      " 0.57127103 0.57127103 0.57127103 0.57127103 0.57127103 0.57127103\n",
      " 0.57127103 0.57127103 0.57127103 0.57127103 0.57127103 0.57127103\n",
      " 0.57127103 0.57127103 0.57127103 0.57127103 0.57127103 0.57127103\n",
      " 0.57127103 0.57127103 0.57127103 0.57127103 0.57127103 0.57127103\n",
      " 0.57127103 0.57127103 0.57127103 0.57127103 0.57127103 0.57127103\n",
      " 0.57127103 0.57127103 0.57127103 0.57127103 0.57127103 0.57127103]' has dtype incompatible with int64, please explicitly cast to a compatible dtype first.\n",
      "  # Get the frequency of the interaction cells\n"
     ]
    },
    {
     "ename": "IndexError",
     "evalue": "list index out of range",
     "output_type": "error",
     "traceback": [
      "\u001b[1;31m---------------------------------------------------------------------------\u001b[0m",
      "\u001b[1;31mIndexError\u001b[0m                                Traceback (most recent call last)",
      "Cell \u001b[1;32mIn[34], line 2\u001b[0m\n\u001b[0;32m      1\u001b[0m interaction_path \u001b[38;5;241m=\u001b[39m \u001b[38;5;124mf\u001b[39m\u001b[38;5;124m'\u001b[39m\u001b[38;5;124mD:/netmob25/results/ebm/interactions/\u001b[39m\u001b[38;5;124m'\u001b[39m\n\u001b[1;32m----> 2\u001b[0m gam_results\u001b[38;5;241m.\u001b[39minterection_effect(path2save\u001b[38;5;241m=\u001b[39minteraction_path)\n",
      "File \u001b[1;32mD:\\netmob25\\lib\\helpers.py:185\u001b[0m, in \u001b[0;36mEBMResultsOrganizer.interection_effect\u001b[1;34m(self, path2save)\u001b[0m\n\u001b[0;32m    183\u001b[0m tp\u001b[38;5;241m.\u001b[39mcolumns \u001b[38;5;241m=\u001b[39m [var1, var2, \u001b[38;5;124m'\u001b[39m\u001b[38;5;124mf\u001b[39m\u001b[38;5;124m'\u001b[39m]\n\u001b[0;32m    184\u001b[0m tp\u001b[38;5;241m.\u001b[39mloc[:, var1] \u001b[38;5;241m=\u001b[39m tp\u001b[38;5;241m.\u001b[39mloc[:, var1]\u001b[38;5;241m.\u001b[39mapply(\u001b[38;5;28;01mlambda\u001b[39;00m x: v1_values[x])\n\u001b[1;32m--> 185\u001b[0m tp\u001b[38;5;241m.\u001b[39mloc[:, var2] \u001b[38;5;241m=\u001b[39m tp\u001b[38;5;241m.\u001b[39mloc[:, var2]\u001b[38;5;241m.\u001b[39mapply(\u001b[38;5;28;01mlambda\u001b[39;00m x: v2_values[x])\n\u001b[0;32m    187\u001b[0m \u001b[38;5;66;03m# Get the frequency of the interaction cells\u001b[39;00m\n\u001b[0;32m    188\u001b[0m \u001b[38;5;28;01mif\u001b[39;00m var1 \u001b[38;5;129;01mnot\u001b[39;00m \u001b[38;5;129;01min\u001b[39;00m labels_cat:\n",
      "File \u001b[1;32mc:\\ProgramData\\anaconda3\\envs\\mobi\\Lib\\site-packages\\pandas\\core\\series.py:4924\u001b[0m, in \u001b[0;36mSeries.apply\u001b[1;34m(self, func, convert_dtype, args, by_row, **kwargs)\u001b[0m\n\u001b[0;32m   4789\u001b[0m \u001b[38;5;28;01mdef\u001b[39;00m \u001b[38;5;21mapply\u001b[39m(\n\u001b[0;32m   4790\u001b[0m     \u001b[38;5;28mself\u001b[39m,\n\u001b[0;32m   4791\u001b[0m     func: AggFuncType,\n\u001b[1;32m   (...)\u001b[0m\n\u001b[0;32m   4796\u001b[0m     \u001b[38;5;241m*\u001b[39m\u001b[38;5;241m*\u001b[39mkwargs,\n\u001b[0;32m   4797\u001b[0m ) \u001b[38;5;241m-\u001b[39m\u001b[38;5;241m>\u001b[39m DataFrame \u001b[38;5;241m|\u001b[39m Series:\n\u001b[0;32m   4798\u001b[0m \u001b[38;5;250m    \u001b[39m\u001b[38;5;124;03m\"\"\"\u001b[39;00m\n\u001b[0;32m   4799\u001b[0m \u001b[38;5;124;03m    Invoke function on values of Series.\u001b[39;00m\n\u001b[0;32m   4800\u001b[0m \n\u001b[1;32m   (...)\u001b[0m\n\u001b[0;32m   4915\u001b[0m \u001b[38;5;124;03m    dtype: float64\u001b[39;00m\n\u001b[0;32m   4916\u001b[0m \u001b[38;5;124;03m    \"\"\"\u001b[39;00m\n\u001b[0;32m   4917\u001b[0m     \u001b[38;5;28;01mreturn\u001b[39;00m SeriesApply(\n\u001b[0;32m   4918\u001b[0m         \u001b[38;5;28mself\u001b[39m,\n\u001b[0;32m   4919\u001b[0m         func,\n\u001b[0;32m   4920\u001b[0m         convert_dtype\u001b[38;5;241m=\u001b[39mconvert_dtype,\n\u001b[0;32m   4921\u001b[0m         by_row\u001b[38;5;241m=\u001b[39mby_row,\n\u001b[0;32m   4922\u001b[0m         args\u001b[38;5;241m=\u001b[39margs,\n\u001b[0;32m   4923\u001b[0m         kwargs\u001b[38;5;241m=\u001b[39mkwargs,\n\u001b[1;32m-> 4924\u001b[0m     )\u001b[38;5;241m.\u001b[39mapply()\n",
      "File \u001b[1;32mc:\\ProgramData\\anaconda3\\envs\\mobi\\Lib\\site-packages\\pandas\\core\\apply.py:1427\u001b[0m, in \u001b[0;36mSeriesApply.apply\u001b[1;34m(self)\u001b[0m\n\u001b[0;32m   1424\u001b[0m     \u001b[38;5;28;01mreturn\u001b[39;00m \u001b[38;5;28mself\u001b[39m\u001b[38;5;241m.\u001b[39mapply_compat()\n\u001b[0;32m   1426\u001b[0m \u001b[38;5;66;03m# self.func is Callable\u001b[39;00m\n\u001b[1;32m-> 1427\u001b[0m \u001b[38;5;28;01mreturn\u001b[39;00m \u001b[38;5;28mself\u001b[39m\u001b[38;5;241m.\u001b[39mapply_standard()\n",
      "File \u001b[1;32mc:\\ProgramData\\anaconda3\\envs\\mobi\\Lib\\site-packages\\pandas\\core\\apply.py:1507\u001b[0m, in \u001b[0;36mSeriesApply.apply_standard\u001b[1;34m(self)\u001b[0m\n\u001b[0;32m   1501\u001b[0m \u001b[38;5;66;03m# row-wise access\u001b[39;00m\n\u001b[0;32m   1502\u001b[0m \u001b[38;5;66;03m# apply doesn't have a `na_action` keyword and for backward compat reasons\u001b[39;00m\n\u001b[0;32m   1503\u001b[0m \u001b[38;5;66;03m# we need to give `na_action=\"ignore\"` for categorical data.\u001b[39;00m\n\u001b[0;32m   1504\u001b[0m \u001b[38;5;66;03m# TODO: remove the `na_action=\"ignore\"` when that default has been changed in\u001b[39;00m\n\u001b[0;32m   1505\u001b[0m \u001b[38;5;66;03m#  Categorical (GH51645).\u001b[39;00m\n\u001b[0;32m   1506\u001b[0m action \u001b[38;5;241m=\u001b[39m \u001b[38;5;124m\"\u001b[39m\u001b[38;5;124mignore\u001b[39m\u001b[38;5;124m\"\u001b[39m \u001b[38;5;28;01mif\u001b[39;00m \u001b[38;5;28misinstance\u001b[39m(obj\u001b[38;5;241m.\u001b[39mdtype, CategoricalDtype) \u001b[38;5;28;01melse\u001b[39;00m \u001b[38;5;28;01mNone\u001b[39;00m\n\u001b[1;32m-> 1507\u001b[0m mapped \u001b[38;5;241m=\u001b[39m obj\u001b[38;5;241m.\u001b[39m_map_values(\n\u001b[0;32m   1508\u001b[0m     mapper\u001b[38;5;241m=\u001b[39mcurried, na_action\u001b[38;5;241m=\u001b[39maction, convert\u001b[38;5;241m=\u001b[39m\u001b[38;5;28mself\u001b[39m\u001b[38;5;241m.\u001b[39mconvert_dtype\n\u001b[0;32m   1509\u001b[0m )\n\u001b[0;32m   1511\u001b[0m \u001b[38;5;28;01mif\u001b[39;00m \u001b[38;5;28mlen\u001b[39m(mapped) \u001b[38;5;129;01mand\u001b[39;00m \u001b[38;5;28misinstance\u001b[39m(mapped[\u001b[38;5;241m0\u001b[39m], ABCSeries):\n\u001b[0;32m   1512\u001b[0m     \u001b[38;5;66;03m# GH#43986 Need to do list(mapped) in order to get treated as nested\u001b[39;00m\n\u001b[0;32m   1513\u001b[0m     \u001b[38;5;66;03m#  See also GH#25959 regarding EA support\u001b[39;00m\n\u001b[0;32m   1514\u001b[0m     \u001b[38;5;28;01mreturn\u001b[39;00m obj\u001b[38;5;241m.\u001b[39m_constructor_expanddim(\u001b[38;5;28mlist\u001b[39m(mapped), index\u001b[38;5;241m=\u001b[39mobj\u001b[38;5;241m.\u001b[39mindex)\n",
      "File \u001b[1;32mc:\\ProgramData\\anaconda3\\envs\\mobi\\Lib\\site-packages\\pandas\\core\\base.py:921\u001b[0m, in \u001b[0;36mIndexOpsMixin._map_values\u001b[1;34m(self, mapper, na_action, convert)\u001b[0m\n\u001b[0;32m    918\u001b[0m \u001b[38;5;28;01mif\u001b[39;00m \u001b[38;5;28misinstance\u001b[39m(arr, ExtensionArray):\n\u001b[0;32m    919\u001b[0m     \u001b[38;5;28;01mreturn\u001b[39;00m arr\u001b[38;5;241m.\u001b[39mmap(mapper, na_action\u001b[38;5;241m=\u001b[39mna_action)\n\u001b[1;32m--> 921\u001b[0m \u001b[38;5;28;01mreturn\u001b[39;00m algorithms\u001b[38;5;241m.\u001b[39mmap_array(arr, mapper, na_action\u001b[38;5;241m=\u001b[39mna_action, convert\u001b[38;5;241m=\u001b[39mconvert)\n",
      "File \u001b[1;32mc:\\ProgramData\\anaconda3\\envs\\mobi\\Lib\\site-packages\\pandas\\core\\algorithms.py:1743\u001b[0m, in \u001b[0;36mmap_array\u001b[1;34m(arr, mapper, na_action, convert)\u001b[0m\n\u001b[0;32m   1741\u001b[0m values \u001b[38;5;241m=\u001b[39m arr\u001b[38;5;241m.\u001b[39mastype(\u001b[38;5;28mobject\u001b[39m, copy\u001b[38;5;241m=\u001b[39m\u001b[38;5;28;01mFalse\u001b[39;00m)\n\u001b[0;32m   1742\u001b[0m \u001b[38;5;28;01mif\u001b[39;00m na_action \u001b[38;5;129;01mis\u001b[39;00m \u001b[38;5;28;01mNone\u001b[39;00m:\n\u001b[1;32m-> 1743\u001b[0m     \u001b[38;5;28;01mreturn\u001b[39;00m lib\u001b[38;5;241m.\u001b[39mmap_infer(values, mapper, convert\u001b[38;5;241m=\u001b[39mconvert)\n\u001b[0;32m   1744\u001b[0m \u001b[38;5;28;01melse\u001b[39;00m:\n\u001b[0;32m   1745\u001b[0m     \u001b[38;5;28;01mreturn\u001b[39;00m lib\u001b[38;5;241m.\u001b[39mmap_infer_mask(\n\u001b[0;32m   1746\u001b[0m         values, mapper, mask\u001b[38;5;241m=\u001b[39misna(values)\u001b[38;5;241m.\u001b[39mview(np\u001b[38;5;241m.\u001b[39muint8), convert\u001b[38;5;241m=\u001b[39mconvert\n\u001b[0;32m   1747\u001b[0m     )\n",
      "File \u001b[1;32mlib.pyx:2972\u001b[0m, in \u001b[0;36mpandas._libs.lib.map_infer\u001b[1;34m()\u001b[0m\n",
      "File \u001b[1;32mD:\\netmob25\\lib\\helpers.py:185\u001b[0m, in \u001b[0;36mEBMResultsOrganizer.interection_effect.<locals>.<lambda>\u001b[1;34m(x)\u001b[0m\n\u001b[0;32m    183\u001b[0m tp\u001b[38;5;241m.\u001b[39mcolumns \u001b[38;5;241m=\u001b[39m [var1, var2, \u001b[38;5;124m'\u001b[39m\u001b[38;5;124mf\u001b[39m\u001b[38;5;124m'\u001b[39m]\n\u001b[0;32m    184\u001b[0m tp\u001b[38;5;241m.\u001b[39mloc[:, var1] \u001b[38;5;241m=\u001b[39m tp\u001b[38;5;241m.\u001b[39mloc[:, var1]\u001b[38;5;241m.\u001b[39mapply(\u001b[38;5;28;01mlambda\u001b[39;00m x: v1_values[x])\n\u001b[1;32m--> 185\u001b[0m tp\u001b[38;5;241m.\u001b[39mloc[:, var2] \u001b[38;5;241m=\u001b[39m tp\u001b[38;5;241m.\u001b[39mloc[:, var2]\u001b[38;5;241m.\u001b[39mapply(\u001b[38;5;28;01mlambda\u001b[39;00m x: v2_values[x])\n\u001b[0;32m    187\u001b[0m \u001b[38;5;66;03m# Get the frequency of the interaction cells\u001b[39;00m\n\u001b[0;32m    188\u001b[0m \u001b[38;5;28;01mif\u001b[39;00m var1 \u001b[38;5;129;01mnot\u001b[39;00m \u001b[38;5;129;01min\u001b[39;00m labels_cat:\n",
      "\u001b[1;31mIndexError\u001b[0m: list index out of range"
     ]
    }
   ],
   "source": [
    "interaction_path = f'D:/netmob25/results/ebm/interactions/'\n",
    "gam_results.interection_effect(path2save=interaction_path)"
   ]
  },
  {
   "cell_type": "code",
   "execution_count": 12,
   "id": "90111de8",
   "metadata": {},
   "outputs": [],
   "source": [
    "interaction_data = []\n",
    "\n",
    "for key, value in gam_results.all_fscore[\"interaction\"].items():\n",
    "    feature1, feature2 = key.split(\" & \")\n",
    "    x_edges = np.array(value[0])  # either edges or categorical labels\n",
    "    y_edges = np.array(value[1])\n",
    "    effect_matrix = np.array(value[2])\n",
    "\n",
    "    # Determine dimensionality\n",
    "    is_x_categorical = not np.issubdtype(x_edges.dtype, np.number)\n",
    "    is_y_categorical = not np.issubdtype(y_edges.dtype, np.number)\n",
    "\n",
    "    # Compute x-axis values\n",
    "    if is_x_categorical:\n",
    "        x_vals = x_edges\n",
    "    else:\n",
    "        x_vals = (x_edges[:-1] + x_edges[1:]) / 2\n",
    "\n",
    "    # Compute y-axis values\n",
    "    if is_y_categorical:\n",
    "        y_vals = y_edges\n",
    "    else:\n",
    "        y_vals = (y_edges[:-1] + y_edges[1:]) / 2\n",
    "\n",
    "    for i, y in enumerate(y_vals):\n",
    "        for j, x in enumerate(x_vals):\n",
    "            # Adjust indexing based on layout\n",
    "            effect = effect_matrix[i, j] if effect_matrix.shape == (len(y_vals), len(x_vals)) else effect_matrix[j, i]\n",
    "            interaction_data.append({\n",
    "                \"feature1\": feature1,\n",
    "                \"feature2\": feature2,\n",
    "                \"x\": x,\n",
    "                \"y\": y,\n",
    "                \"effect\": effect\n",
    "            })\n",
    "\n",
    "df_interactions = pd.DataFrame(interaction_data)"
   ]
  },
  {
   "cell_type": "code",
   "execution_count": 13,
   "id": "77ae6f8a",
   "metadata": {},
   "outputs": [],
   "source": [
    "df_interactions.to_csv(\"results/ebm/interactions.csv\", index=False)"
   ]
  }
 ],
 "metadata": {
  "kernelspec": {
   "display_name": "mobi",
   "language": "python",
   "name": "python3"
  },
  "language_info": {
   "codemirror_mode": {
    "name": "ipython",
    "version": 3
   },
   "file_extension": ".py",
   "mimetype": "text/x-python",
   "name": "python",
   "nbconvert_exporter": "python",
   "pygments_lexer": "ipython3",
   "version": "3.11.11"
  }
 },
 "nbformat": 4,
 "nbformat_minor": 5
}
