{
 "cells": [
  {
   "cell_type": "markdown",
   "id": "06f9cb1a",
   "metadata": {},
   "source": [
    "# Accessibility results"
   ]
  },
  {
   "cell_type": "code",
   "execution_count": 1,
   "id": "0daff2bb",
   "metadata": {},
   "outputs": [
    {
     "name": "stdout",
     "output_type": "stream",
     "text": [
      "D:\\netmob25\n"
     ]
    }
   ],
   "source": [
    "%load_ext autoreload\n",
    "%autoreload 2\n",
    "%cd D:\\netmob25"
   ]
  },
  {
   "cell_type": "code",
   "execution_count": 2,
   "id": "d59e6bdf",
   "metadata": {},
   "outputs": [],
   "source": [
    "import pandas as pd\n",
    "from tqdm import tqdm\n",
    "from geopy.distance import geodesic"
   ]
  },
  {
   "cell_type": "markdown",
   "id": "58403dec",
   "metadata": {},
   "source": [
    "## 1. Load activity data"
   ]
  },
  {
   "cell_type": "code",
   "execution_count": 3,
   "id": "4ec76674",
   "metadata": {},
   "outputs": [
    {
     "name": "stdout",
     "output_type": "stream",
     "text": [
      "Number of types: ['OTHER' 'RETURN_HOME' 'ACCOM' 'PURCHASE' 'WORK' 'LEISURE' 'BUSINESS'\n",
      " 'HEALTH' 'STUDIES'] in 69706 activities.\n"
     ]
    },
    {
     "data": {
      "application/vnd.microsoft.datawrangler.viewer.v0+json": {
       "columns": [
        {
         "name": "index",
         "rawType": "int64",
         "type": "integer"
        },
        {
         "name": "lon",
         "rawType": "float64",
         "type": "float"
        },
        {
         "name": "lat",
         "rawType": "float64",
         "type": "float"
        },
        {
         "name": "time",
         "rawType": "datetime64[ns]",
         "type": "datetime"
        },
        {
         "name": "day_type",
         "rawType": "object",
         "type": "string"
        },
        {
         "name": "dow",
         "rawType": "object",
         "type": "string"
        },
        {
         "name": "ID",
         "rawType": "object",
         "type": "string"
        },
        {
         "name": "purpose_d",
         "rawType": "object",
         "type": "string"
        },
        {
         "name": "weight_day",
         "rawType": "float64",
         "type": "float"
        },
        {
         "name": "trip_id",
         "rawType": "object",
         "type": "string"
        },
        {
         "name": "hour",
         "rawType": "int32",
         "type": "integer"
        }
       ],
       "ref": "a471f753-5b18-4aa6-a758-0eff6bac2697",
       "rows": [
        [
         "0",
         "2.1445195819209832",
         "48.866023541741605",
         "2023-03-15 16:54:59",
         "Normal",
         "wednesday",
         "10_2978",
         "OTHER",
         "235.90568292",
         "2023-03-15_1",
         "16"
        ],
        [
         "1",
         "2.141280865961307",
         "48.86665081710344",
         "2023-03-15 17:10:59",
         "Normal",
         "wednesday",
         "10_2978",
         "RETURN_HOME",
         "235.90568292",
         "2023-03-15_2",
         "17"
        ],
        [
         "2",
         "2.126684677861543",
         "48.81942248743152",
         "2023-03-15 17:51:00",
         "Normal",
         "wednesday",
         "10_2978",
         "ACCOM",
         "235.90568292",
         "2023-03-15_3",
         "17"
        ],
        [
         "3",
         "2.139098363651667",
         "48.86503078910063",
         "2023-03-15 18:26:00",
         "Normal",
         "wednesday",
         "10_2978",
         "RETURN_HOME",
         "235.90568292",
         "2023-03-15_4",
         "18"
        ],
        [
         "4",
         "2.1445195819209832",
         "48.866023541741605",
         "2023-03-16 08:17:00",
         "Normal",
         "thursday",
         "10_2978",
         "OTHER",
         "218.34588154",
         "2023-03-16_1",
         "8"
        ]
       ],
       "shape": {
        "columns": 10,
        "rows": 5
       }
      },
      "text/html": [
       "<div>\n",
       "<style scoped>\n",
       "    .dataframe tbody tr th:only-of-type {\n",
       "        vertical-align: middle;\n",
       "    }\n",
       "\n",
       "    .dataframe tbody tr th {\n",
       "        vertical-align: top;\n",
       "    }\n",
       "\n",
       "    .dataframe thead th {\n",
       "        text-align: right;\n",
       "    }\n",
       "</style>\n",
       "<table border=\"1\" class=\"dataframe\">\n",
       "  <thead>\n",
       "    <tr style=\"text-align: right;\">\n",
       "      <th></th>\n",
       "      <th>lon</th>\n",
       "      <th>lat</th>\n",
       "      <th>time</th>\n",
       "      <th>day_type</th>\n",
       "      <th>dow</th>\n",
       "      <th>ID</th>\n",
       "      <th>purpose_d</th>\n",
       "      <th>weight_day</th>\n",
       "      <th>trip_id</th>\n",
       "      <th>hour</th>\n",
       "    </tr>\n",
       "  </thead>\n",
       "  <tbody>\n",
       "    <tr>\n",
       "      <th>0</th>\n",
       "      <td>2.144520</td>\n",
       "      <td>48.866024</td>\n",
       "      <td>2023-03-15 16:54:59</td>\n",
       "      <td>Normal</td>\n",
       "      <td>wednesday</td>\n",
       "      <td>10_2978</td>\n",
       "      <td>OTHER</td>\n",
       "      <td>235.905683</td>\n",
       "      <td>2023-03-15_1</td>\n",
       "      <td>16</td>\n",
       "    </tr>\n",
       "    <tr>\n",
       "      <th>1</th>\n",
       "      <td>2.141281</td>\n",
       "      <td>48.866651</td>\n",
       "      <td>2023-03-15 17:10:59</td>\n",
       "      <td>Normal</td>\n",
       "      <td>wednesday</td>\n",
       "      <td>10_2978</td>\n",
       "      <td>RETURN_HOME</td>\n",
       "      <td>235.905683</td>\n",
       "      <td>2023-03-15_2</td>\n",
       "      <td>17</td>\n",
       "    </tr>\n",
       "    <tr>\n",
       "      <th>2</th>\n",
       "      <td>2.126685</td>\n",
       "      <td>48.819422</td>\n",
       "      <td>2023-03-15 17:51:00</td>\n",
       "      <td>Normal</td>\n",
       "      <td>wednesday</td>\n",
       "      <td>10_2978</td>\n",
       "      <td>ACCOM</td>\n",
       "      <td>235.905683</td>\n",
       "      <td>2023-03-15_3</td>\n",
       "      <td>17</td>\n",
       "    </tr>\n",
       "    <tr>\n",
       "      <th>3</th>\n",
       "      <td>2.139098</td>\n",
       "      <td>48.865031</td>\n",
       "      <td>2023-03-15 18:26:00</td>\n",
       "      <td>Normal</td>\n",
       "      <td>wednesday</td>\n",
       "      <td>10_2978</td>\n",
       "      <td>RETURN_HOME</td>\n",
       "      <td>235.905683</td>\n",
       "      <td>2023-03-15_4</td>\n",
       "      <td>18</td>\n",
       "    </tr>\n",
       "    <tr>\n",
       "      <th>4</th>\n",
       "      <td>2.144520</td>\n",
       "      <td>48.866024</td>\n",
       "      <td>2023-03-16 08:17:00</td>\n",
       "      <td>Normal</td>\n",
       "      <td>thursday</td>\n",
       "      <td>10_2978</td>\n",
       "      <td>OTHER</td>\n",
       "      <td>218.345882</td>\n",
       "      <td>2023-03-16_1</td>\n",
       "      <td>8</td>\n",
       "    </tr>\n",
       "  </tbody>\n",
       "</table>\n",
       "</div>"
      ],
      "text/plain": [
       "        lon        lat                time day_type        dow       ID  \\\n",
       "0  2.144520  48.866024 2023-03-15 16:54:59   Normal  wednesday  10_2978   \n",
       "1  2.141281  48.866651 2023-03-15 17:10:59   Normal  wednesday  10_2978   \n",
       "2  2.126685  48.819422 2023-03-15 17:51:00   Normal  wednesday  10_2978   \n",
       "3  2.139098  48.865031 2023-03-15 18:26:00   Normal  wednesday  10_2978   \n",
       "4  2.144520  48.866024 2023-03-16 08:17:00   Normal   thursday  10_2978   \n",
       "\n",
       "     purpose_d  weight_day       trip_id  hour  \n",
       "0        OTHER  235.905683  2023-03-15_1    16  \n",
       "1  RETURN_HOME  235.905683  2023-03-15_2    17  \n",
       "2        ACCOM  235.905683  2023-03-15_3    17  \n",
       "3  RETURN_HOME  235.905683  2023-03-15_4    18  \n",
       "4        OTHER  218.345882  2023-03-16_1     8  "
      ]
     },
     "execution_count": 3,
     "metadata": {},
     "output_type": "execute_result"
    }
   ],
   "source": [
    "df_activity = pd.read_parquet(\"dbs/data_p/stays_extraction_all.parquet\")\n",
    "# Extract end coordinates and hour\n",
    "df_activity = df_activity[['end_lon', 'end_lat', 'end_time', 'day_type', 'dow', 'ID', 'purpose_d', 'weight_day', 'trip_id']].copy()\n",
    "df_activity = df_activity.rename(columns={'end_lon': 'lon', 'end_lat': 'lat', 'end_time': 'time'})\n",
    "df_activity['hour'] = pd.to_datetime(df_activity['time']).dt.hour\n",
    "print(f\"Number of types: {df_activity['purpose_d'].unique()} in {len(df_activity)} activities.\")\n",
    "df_activity.head()"
   ]
  },
  {
   "cell_type": "markdown",
   "id": "9c089325",
   "metadata": {},
   "source": [
    "## 2. Merge accessibility data"
   ]
  },
  {
   "cell_type": "code",
   "execution_count": 4,
   "id": "9ebfe4e5",
   "metadata": {},
   "outputs": [
    {
     "name": "stderr",
     "output_type": "stream",
     "text": [
      "Merging accessibility data: 100%|██████████| 24/24 [00:18<00:00,  1.28it/s]\n"
     ]
    }
   ],
   "source": [
    "tp_path = \"dbs/accessibility/\"\n",
    "df_activity_list = []\n",
    "for hour in tqdm(range(24), desc=\"Merging accessibility data\"):\n",
    "    for time_threshold in [15, 30]:\n",
    "        for amenity in ['sl', 'en', 'hs', 'ed']:\n",
    "            for fn in ['pt', 'car']:\n",
    "                df_origins = pd.read_csv(f\"{tp_path}/data/origins_{hour}.csv\")\n",
    "                file_path = f\"{tp_path}/access_{time_threshold}_{amenity}_{fn}_{hour}.csv\"\n",
    "                df = pd.read_csv(file_path)\n",
    "                df_origins = pd.merge(df_origins, df[['id', 'accessibility']], on='id')\n",
    "                for var in ['time_threshold', 'amenity', 'fn', 'hour']:\n",
    "                    df_origins[var] = locals()[var]\n",
    "                temp = pd.merge(df_activity, df_origins, on=['hour', 'lon', 'lat'], how='left')\n",
    "                df_activity_list.append(temp.dropna())\n",
    "df_activity = pd.concat(df_activity_list, ignore_index=True)"
   ]
  },
  {
   "cell_type": "markdown",
   "id": "efcd7d82",
   "metadata": {},
   "source": [
    "### 2.1 Clean up and save"
   ]
  },
  {
   "cell_type": "code",
   "execution_count": 5,
   "id": "b5b18fe6",
   "metadata": {},
   "outputs": [
    {
     "data": {
      "application/vnd.microsoft.datawrangler.viewer.v0+json": {
       "columns": [
        {
         "name": "index",
         "rawType": "int64",
         "type": "integer"
        },
        {
         "name": "lon",
         "rawType": "float64",
         "type": "float"
        },
        {
         "name": "lat",
         "rawType": "float64",
         "type": "float"
        },
        {
         "name": "time",
         "rawType": "datetime64[ns]",
         "type": "datetime"
        },
        {
         "name": "day_type",
         "rawType": "object",
         "type": "string"
        },
        {
         "name": "dow",
         "rawType": "object",
         "type": "string"
        },
        {
         "name": "ID",
         "rawType": "object",
         "type": "string"
        },
        {
         "name": "purpose",
         "rawType": "category",
         "type": "unknown"
        },
        {
         "name": "weight_day",
         "rawType": "float64",
         "type": "float"
        },
        {
         "name": "trip_id",
         "rawType": "object",
         "type": "string"
        },
        {
         "name": "hour",
         "rawType": "int32",
         "type": "integer"
        },
        {
         "name": "accessibility",
         "rawType": "float64",
         "type": "float"
        },
        {
         "name": "time_threshold",
         "rawType": "category",
         "type": "unknown"
        },
        {
         "name": "amenity",
         "rawType": "category",
         "type": "unknown"
        },
        {
         "name": "mode",
         "rawType": "category",
         "type": "unknown"
        }
       ],
       "ref": "933dfda0-3035-4841-b6e8-661d292399fb",
       "rows": [
        [
         "0",
         "2.408676085941246",
         "48.863513536830666",
         "2023-03-18 00:25:00",
         "Normal",
         "friday",
         "10_2980",
         "Home",
         "232.40899963",
         "2023-03-17_6",
         "0",
         "111.0",
         "15 min",
         "Social & Leisure",
         "Public transit"
        ],
        [
         "1",
         "2.328876621777891",
         "48.60938569593544",
         "2023-03-19 00:30:00",
         "Normal",
         "saturday",
         "10_2998",
         "Other",
         "290.3650687",
         "2023-03-18_8",
         "0",
         "7.0",
         "15 min",
         "Social & Leisure",
         "Public transit"
        ],
        [
         "2",
         "2.4569139339376163",
         "48.844839622430094",
         "2023-03-17 00:36:00",
         "Normal",
         "thursday",
         "10_3004",
         "Home",
         "177.52636867",
         "2023-03-16_4",
         "0",
         "7.0",
         "15 min",
         "Social & Leisure",
         "Public transit"
        ],
        [
         "3",
         "2.229862879886343",
         "48.90051174132971",
         "2023-03-18 00:20:59",
         "Normal",
         "friday",
         "10_3011",
         "Home",
         "657.09521556",
         "2023-03-17_12",
         "0",
         "32.0",
         "15 min",
         "Social & Leisure",
         "Public transit"
        ],
        [
         "4",
         "2.23241094",
         "48.89911753",
         "2023-03-18 00:40:59",
         "Normal",
         "friday",
         "10_3011",
         "Other",
         "657.09521556",
         "2023-03-17_13",
         "0",
         "33.0",
         "15 min",
         "Social & Leisure",
         "Public transit"
        ]
       ],
       "shape": {
        "columns": 14,
        "rows": 5
       }
      },
      "text/html": [
       "<div>\n",
       "<style scoped>\n",
       "    .dataframe tbody tr th:only-of-type {\n",
       "        vertical-align: middle;\n",
       "    }\n",
       "\n",
       "    .dataframe tbody tr th {\n",
       "        vertical-align: top;\n",
       "    }\n",
       "\n",
       "    .dataframe thead th {\n",
       "        text-align: right;\n",
       "    }\n",
       "</style>\n",
       "<table border=\"1\" class=\"dataframe\">\n",
       "  <thead>\n",
       "    <tr style=\"text-align: right;\">\n",
       "      <th></th>\n",
       "      <th>lon</th>\n",
       "      <th>lat</th>\n",
       "      <th>time</th>\n",
       "      <th>day_type</th>\n",
       "      <th>dow</th>\n",
       "      <th>ID</th>\n",
       "      <th>purpose</th>\n",
       "      <th>weight_day</th>\n",
       "      <th>trip_id</th>\n",
       "      <th>hour</th>\n",
       "      <th>accessibility</th>\n",
       "      <th>time_threshold</th>\n",
       "      <th>amenity</th>\n",
       "      <th>mode</th>\n",
       "    </tr>\n",
       "  </thead>\n",
       "  <tbody>\n",
       "    <tr>\n",
       "      <th>0</th>\n",
       "      <td>2.408676</td>\n",
       "      <td>48.863514</td>\n",
       "      <td>2023-03-18 00:25:00</td>\n",
       "      <td>Normal</td>\n",
       "      <td>friday</td>\n",
       "      <td>10_2980</td>\n",
       "      <td>Home</td>\n",
       "      <td>232.409000</td>\n",
       "      <td>2023-03-17_6</td>\n",
       "      <td>0</td>\n",
       "      <td>111.0</td>\n",
       "      <td>15 min</td>\n",
       "      <td>Social &amp; Leisure</td>\n",
       "      <td>Public transit</td>\n",
       "    </tr>\n",
       "    <tr>\n",
       "      <th>1</th>\n",
       "      <td>2.328877</td>\n",
       "      <td>48.609386</td>\n",
       "      <td>2023-03-19 00:30:00</td>\n",
       "      <td>Normal</td>\n",
       "      <td>saturday</td>\n",
       "      <td>10_2998</td>\n",
       "      <td>Other</td>\n",
       "      <td>290.365069</td>\n",
       "      <td>2023-03-18_8</td>\n",
       "      <td>0</td>\n",
       "      <td>7.0</td>\n",
       "      <td>15 min</td>\n",
       "      <td>Social &amp; Leisure</td>\n",
       "      <td>Public transit</td>\n",
       "    </tr>\n",
       "    <tr>\n",
       "      <th>2</th>\n",
       "      <td>2.456914</td>\n",
       "      <td>48.844840</td>\n",
       "      <td>2023-03-17 00:36:00</td>\n",
       "      <td>Normal</td>\n",
       "      <td>thursday</td>\n",
       "      <td>10_3004</td>\n",
       "      <td>Home</td>\n",
       "      <td>177.526369</td>\n",
       "      <td>2023-03-16_4</td>\n",
       "      <td>0</td>\n",
       "      <td>7.0</td>\n",
       "      <td>15 min</td>\n",
       "      <td>Social &amp; Leisure</td>\n",
       "      <td>Public transit</td>\n",
       "    </tr>\n",
       "    <tr>\n",
       "      <th>3</th>\n",
       "      <td>2.229863</td>\n",
       "      <td>48.900512</td>\n",
       "      <td>2023-03-18 00:20:59</td>\n",
       "      <td>Normal</td>\n",
       "      <td>friday</td>\n",
       "      <td>10_3011</td>\n",
       "      <td>Home</td>\n",
       "      <td>657.095216</td>\n",
       "      <td>2023-03-17_12</td>\n",
       "      <td>0</td>\n",
       "      <td>32.0</td>\n",
       "      <td>15 min</td>\n",
       "      <td>Social &amp; Leisure</td>\n",
       "      <td>Public transit</td>\n",
       "    </tr>\n",
       "    <tr>\n",
       "      <th>4</th>\n",
       "      <td>2.232411</td>\n",
       "      <td>48.899118</td>\n",
       "      <td>2023-03-18 00:40:59</td>\n",
       "      <td>Normal</td>\n",
       "      <td>friday</td>\n",
       "      <td>10_3011</td>\n",
       "      <td>Other</td>\n",
       "      <td>657.095216</td>\n",
       "      <td>2023-03-17_13</td>\n",
       "      <td>0</td>\n",
       "      <td>33.0</td>\n",
       "      <td>15 min</td>\n",
       "      <td>Social &amp; Leisure</td>\n",
       "      <td>Public transit</td>\n",
       "    </tr>\n",
       "  </tbody>\n",
       "</table>\n",
       "</div>"
      ],
      "text/plain": [
       "        lon        lat                time day_type       dow       ID  \\\n",
       "0  2.408676  48.863514 2023-03-18 00:25:00   Normal    friday  10_2980   \n",
       "1  2.328877  48.609386 2023-03-19 00:30:00   Normal  saturday  10_2998   \n",
       "2  2.456914  48.844840 2023-03-17 00:36:00   Normal  thursday  10_3004   \n",
       "3  2.229863  48.900512 2023-03-18 00:20:59   Normal    friday  10_3011   \n",
       "4  2.232411  48.899118 2023-03-18 00:40:59   Normal    friday  10_3011   \n",
       "\n",
       "  purpose  weight_day        trip_id  hour  accessibility time_threshold  \\\n",
       "0    Home  232.409000   2023-03-17_6     0          111.0         15 min   \n",
       "1   Other  290.365069   2023-03-18_8     0            7.0         15 min   \n",
       "2    Home  177.526369   2023-03-16_4     0            7.0         15 min   \n",
       "3    Home  657.095216  2023-03-17_12     0           32.0         15 min   \n",
       "4   Other  657.095216  2023-03-17_13     0           33.0         15 min   \n",
       "\n",
       "            amenity            mode  \n",
       "0  Social & Leisure  Public transit  \n",
       "1  Social & Leisure  Public transit  \n",
       "2  Social & Leisure  Public transit  \n",
       "3  Social & Leisure  Public transit  \n",
       "4  Social & Leisure  Public transit  "
      ]
     },
     "execution_count": 5,
     "metadata": {},
     "output_type": "execute_result"
    }
   ],
   "source": [
    "df_activity.drop(columns=['id'], inplace=True)\n",
    "df_activity.columns = ['lon', 'lat', 'time', 'day_type', 'dow', 'ID', 'purpose', \n",
    "                       'weight_day', 'trip_id', 'hour', 'accessibility', 'time_threshold',\n",
    "                       'amenity', 'mode']\n",
    "# Make time_threshold etc. categorical\n",
    "df_activity['time_threshold'] = df_activity['time_threshold'].map({15: '15 min', 30: '30 min'}).astype('category')\n",
    "df_activity['amenity'] = df_activity['amenity'].map({'sl': 'Social & Leisure', 'en': 'Essential needs',\n",
    "                                                     'hs': 'Health services', 'ed': 'Education'}).astype('category')\n",
    "df_activity['mode'] = df_activity['mode'].map({'car': 'Car', 'pt': 'Public transit'}).astype('category')\n",
    "df_activity['purpose'] = df_activity['purpose'].map({'RETURN_HOME': 'Home', \n",
    "                                                     'OTHER': 'Other', \n",
    "                                                     'LEISURE': 'Leisure', \n",
    "                                                     'WORK': 'Work', \n",
    "                                                     'ACCOM': 'Accomodation', \n",
    "                                                     'BUSINESS': 'Business',\n",
    "                                                     'PURCHASE': 'Purchase', \n",
    "                                                     'HEALTH': 'Health', \n",
    "                                                     'STUDIES': 'Studies'}).astype('category')\n",
    "df_activity.head()"
   ]
  },
  {
   "cell_type": "markdown",
   "id": "e2d46841",
   "metadata": {},
   "source": [
    "## 3. Distance to home"
   ]
  },
  {
   "cell_type": "code",
   "execution_count": 6,
   "id": "16510a47",
   "metadata": {},
   "outputs": [
    {
     "data": {
      "application/vnd.microsoft.datawrangler.viewer.v0+json": {
       "columns": [
        {
         "name": "index",
         "rawType": "int64",
         "type": "integer"
        },
        {
         "name": "home_lon",
         "rawType": "float64",
         "type": "float"
        },
        {
         "name": "home_lat",
         "rawType": "float64",
         "type": "float"
        },
        {
         "name": "ID",
         "rawType": "object",
         "type": "string"
        }
       ],
       "ref": "d973dc31-c78d-4017-baf0-dd1935ae1d4c",
       "rows": [
        [
         "0",
         "2.139098363651667",
         "48.86503078910063",
         "10_2978"
        ],
        [
         "18",
         "2.4070624103448326",
         "48.86383045070804",
         "10_2980"
        ],
        [
         "35",
         "2.384386955650092",
         "48.68849387083627",
         "10_2981"
        ],
        [
         "50",
         "2.4965706146312097",
         "48.61327452589187",
         "10_2982"
        ],
        [
         "83",
         "2.0237588716042283",
         "48.803519804526125",
         "10_2984"
        ]
       ],
       "shape": {
        "columns": 3,
        "rows": 5
       }
      },
      "text/html": [
       "<div>\n",
       "<style scoped>\n",
       "    .dataframe tbody tr th:only-of-type {\n",
       "        vertical-align: middle;\n",
       "    }\n",
       "\n",
       "    .dataframe tbody tr th {\n",
       "        vertical-align: top;\n",
       "    }\n",
       "\n",
       "    .dataframe thead th {\n",
       "        text-align: right;\n",
       "    }\n",
       "</style>\n",
       "<table border=\"1\" class=\"dataframe\">\n",
       "  <thead>\n",
       "    <tr style=\"text-align: right;\">\n",
       "      <th></th>\n",
       "      <th>home_lon</th>\n",
       "      <th>home_lat</th>\n",
       "      <th>ID</th>\n",
       "    </tr>\n",
       "  </thead>\n",
       "  <tbody>\n",
       "    <tr>\n",
       "      <th>0</th>\n",
       "      <td>2.139098</td>\n",
       "      <td>48.865031</td>\n",
       "      <td>10_2978</td>\n",
       "    </tr>\n",
       "    <tr>\n",
       "      <th>18</th>\n",
       "      <td>2.407062</td>\n",
       "      <td>48.863830</td>\n",
       "      <td>10_2980</td>\n",
       "    </tr>\n",
       "    <tr>\n",
       "      <th>35</th>\n",
       "      <td>2.384387</td>\n",
       "      <td>48.688494</td>\n",
       "      <td>10_2981</td>\n",
       "    </tr>\n",
       "    <tr>\n",
       "      <th>50</th>\n",
       "      <td>2.496571</td>\n",
       "      <td>48.613275</td>\n",
       "      <td>10_2982</td>\n",
       "    </tr>\n",
       "    <tr>\n",
       "      <th>83</th>\n",
       "      <td>2.023759</td>\n",
       "      <td>48.803520</td>\n",
       "      <td>10_2984</td>\n",
       "    </tr>\n",
       "  </tbody>\n",
       "</table>\n",
       "</div>"
      ],
      "text/plain": [
       "    home_lon   home_lat       ID\n",
       "0   2.139098  48.865031  10_2978\n",
       "18  2.407062  48.863830  10_2980\n",
       "35  2.384387  48.688494  10_2981\n",
       "50  2.496571  48.613275  10_2982\n",
       "83  2.023759  48.803520  10_2984"
      ]
     },
     "execution_count": 6,
     "metadata": {},
     "output_type": "execute_result"
    }
   ],
   "source": [
    "# Add home coordinates from origins as well\n",
    "df_home = pd.read_parquet(\"dbs/data_p/stays_extraction_all.parquet\")\n",
    "# Extract end coordinates and hour\n",
    "df_home = df_home[['start_lon', 'start_lat', 'ID', 'purpose_o']].copy()\n",
    "df_home = df_home.rename(columns={'start_lon': 'home_lon', 'start_lat': 'home_lat', 'purpose_o': 'purpose'})\n",
    "df_home = df_home[df_home['purpose'] == 'DEPART_HOME'].drop_duplicates(subset=['ID']).drop(columns='purpose')\n",
    "df_home.head()"
   ]
  },
  {
   "cell_type": "code",
   "execution_count": 7,
   "id": "29f9213f",
   "metadata": {},
   "outputs": [
    {
     "name": "stderr",
     "output_type": "stream",
     "text": [
      "100%|██████████| 1083424/1083424 [03:35<00:00, 5017.77it/s]\n"
     ]
    },
    {
     "data": {
      "application/vnd.microsoft.datawrangler.viewer.v0+json": {
       "columns": [
        {
         "name": "index",
         "rawType": "int64",
         "type": "integer"
        },
        {
         "name": "lon",
         "rawType": "float64",
         "type": "float"
        },
        {
         "name": "lat",
         "rawType": "float64",
         "type": "float"
        },
        {
         "name": "time",
         "rawType": "datetime64[ns]",
         "type": "datetime"
        },
        {
         "name": "day_type",
         "rawType": "object",
         "type": "string"
        },
        {
         "name": "dow",
         "rawType": "object",
         "type": "string"
        },
        {
         "name": "ID",
         "rawType": "object",
         "type": "string"
        },
        {
         "name": "purpose",
         "rawType": "category",
         "type": "unknown"
        },
        {
         "name": "weight_day",
         "rawType": "float64",
         "type": "float"
        },
        {
         "name": "trip_id",
         "rawType": "object",
         "type": "string"
        },
        {
         "name": "hour",
         "rawType": "int32",
         "type": "integer"
        },
        {
         "name": "accessibility",
         "rawType": "float64",
         "type": "float"
        },
        {
         "name": "time_threshold",
         "rawType": "category",
         "type": "unknown"
        },
        {
         "name": "amenity",
         "rawType": "category",
         "type": "unknown"
        },
        {
         "name": "mode",
         "rawType": "category",
         "type": "unknown"
        },
        {
         "name": "d2h",
         "rawType": "float64",
         "type": "float"
        }
       ],
       "ref": "620d28c3-ede3-4ed0-a3d9-cab0bb56b15f",
       "rows": [
        [
         "0",
         "2.408676085941246",
         "48.863513536830666",
         "2023-03-18 00:25:00",
         "Normal",
         "friday",
         "10_2980",
         "Home",
         "232.40899963",
         "2023-03-17_6",
         "0",
         "111.0",
         "15 min",
         "Social & Leisure",
         "Public transit",
         "0.0"
        ],
        [
         "1",
         "2.328876621777891",
         "48.60938569593544",
         "2023-03-19 00:30:00",
         "Normal",
         "saturday",
         "10_2998",
         "Other",
         "290.3650687",
         "2023-03-18_8",
         "0",
         "7.0",
         "15 min",
         "Social & Leisure",
         "Public transit",
         "9375.61227399961"
        ],
        [
         "2",
         "2.4569139339376163",
         "48.844839622430094",
         "2023-03-17 00:36:00",
         "Normal",
         "thursday",
         "10_3004",
         "Home",
         "177.52636867",
         "2023-03-16_4",
         "0",
         "7.0",
         "15 min",
         "Social & Leisure",
         "Public transit",
         "0.0"
        ],
        [
         "3",
         "2.229862879886343",
         "48.90051174132971",
         "2023-03-18 00:20:59",
         "Normal",
         "friday",
         "10_3011",
         "Home",
         "657.09521556",
         "2023-03-17_12",
         "0",
         "32.0",
         "15 min",
         "Social & Leisure",
         "Public transit",
         "0.0"
        ],
        [
         "4",
         "2.23241094",
         "48.89911753",
         "2023-03-18 00:40:59",
         "Normal",
         "friday",
         "10_3011",
         "Other",
         "657.09521556",
         "2023-03-17_13",
         "0",
         "33.0",
         "15 min",
         "Social & Leisure",
         "Public transit",
         "242.77820970219366"
        ]
       ],
       "shape": {
        "columns": 15,
        "rows": 5
       }
      },
      "text/html": [
       "<div>\n",
       "<style scoped>\n",
       "    .dataframe tbody tr th:only-of-type {\n",
       "        vertical-align: middle;\n",
       "    }\n",
       "\n",
       "    .dataframe tbody tr th {\n",
       "        vertical-align: top;\n",
       "    }\n",
       "\n",
       "    .dataframe thead th {\n",
       "        text-align: right;\n",
       "    }\n",
       "</style>\n",
       "<table border=\"1\" class=\"dataframe\">\n",
       "  <thead>\n",
       "    <tr style=\"text-align: right;\">\n",
       "      <th></th>\n",
       "      <th>lon</th>\n",
       "      <th>lat</th>\n",
       "      <th>time</th>\n",
       "      <th>day_type</th>\n",
       "      <th>dow</th>\n",
       "      <th>ID</th>\n",
       "      <th>purpose</th>\n",
       "      <th>weight_day</th>\n",
       "      <th>trip_id</th>\n",
       "      <th>hour</th>\n",
       "      <th>accessibility</th>\n",
       "      <th>time_threshold</th>\n",
       "      <th>amenity</th>\n",
       "      <th>mode</th>\n",
       "      <th>d2h</th>\n",
       "    </tr>\n",
       "  </thead>\n",
       "  <tbody>\n",
       "    <tr>\n",
       "      <th>0</th>\n",
       "      <td>2.408676</td>\n",
       "      <td>48.863514</td>\n",
       "      <td>2023-03-18 00:25:00</td>\n",
       "      <td>Normal</td>\n",
       "      <td>friday</td>\n",
       "      <td>10_2980</td>\n",
       "      <td>Home</td>\n",
       "      <td>232.409000</td>\n",
       "      <td>2023-03-17_6</td>\n",
       "      <td>0</td>\n",
       "      <td>111.0</td>\n",
       "      <td>15 min</td>\n",
       "      <td>Social &amp; Leisure</td>\n",
       "      <td>Public transit</td>\n",
       "      <td>0.000000</td>\n",
       "    </tr>\n",
       "    <tr>\n",
       "      <th>1</th>\n",
       "      <td>2.328877</td>\n",
       "      <td>48.609386</td>\n",
       "      <td>2023-03-19 00:30:00</td>\n",
       "      <td>Normal</td>\n",
       "      <td>saturday</td>\n",
       "      <td>10_2998</td>\n",
       "      <td>Other</td>\n",
       "      <td>290.365069</td>\n",
       "      <td>2023-03-18_8</td>\n",
       "      <td>0</td>\n",
       "      <td>7.0</td>\n",
       "      <td>15 min</td>\n",
       "      <td>Social &amp; Leisure</td>\n",
       "      <td>Public transit</td>\n",
       "      <td>9375.612274</td>\n",
       "    </tr>\n",
       "    <tr>\n",
       "      <th>2</th>\n",
       "      <td>2.456914</td>\n",
       "      <td>48.844840</td>\n",
       "      <td>2023-03-17 00:36:00</td>\n",
       "      <td>Normal</td>\n",
       "      <td>thursday</td>\n",
       "      <td>10_3004</td>\n",
       "      <td>Home</td>\n",
       "      <td>177.526369</td>\n",
       "      <td>2023-03-16_4</td>\n",
       "      <td>0</td>\n",
       "      <td>7.0</td>\n",
       "      <td>15 min</td>\n",
       "      <td>Social &amp; Leisure</td>\n",
       "      <td>Public transit</td>\n",
       "      <td>0.000000</td>\n",
       "    </tr>\n",
       "    <tr>\n",
       "      <th>3</th>\n",
       "      <td>2.229863</td>\n",
       "      <td>48.900512</td>\n",
       "      <td>2023-03-18 00:20:59</td>\n",
       "      <td>Normal</td>\n",
       "      <td>friday</td>\n",
       "      <td>10_3011</td>\n",
       "      <td>Home</td>\n",
       "      <td>657.095216</td>\n",
       "      <td>2023-03-17_12</td>\n",
       "      <td>0</td>\n",
       "      <td>32.0</td>\n",
       "      <td>15 min</td>\n",
       "      <td>Social &amp; Leisure</td>\n",
       "      <td>Public transit</td>\n",
       "      <td>0.000000</td>\n",
       "    </tr>\n",
       "    <tr>\n",
       "      <th>4</th>\n",
       "      <td>2.232411</td>\n",
       "      <td>48.899118</td>\n",
       "      <td>2023-03-18 00:40:59</td>\n",
       "      <td>Normal</td>\n",
       "      <td>friday</td>\n",
       "      <td>10_3011</td>\n",
       "      <td>Other</td>\n",
       "      <td>657.095216</td>\n",
       "      <td>2023-03-17_13</td>\n",
       "      <td>0</td>\n",
       "      <td>33.0</td>\n",
       "      <td>15 min</td>\n",
       "      <td>Social &amp; Leisure</td>\n",
       "      <td>Public transit</td>\n",
       "      <td>242.778210</td>\n",
       "    </tr>\n",
       "  </tbody>\n",
       "</table>\n",
       "</div>"
      ],
      "text/plain": [
       "        lon        lat                time day_type       dow       ID  \\\n",
       "0  2.408676  48.863514 2023-03-18 00:25:00   Normal    friday  10_2980   \n",
       "1  2.328877  48.609386 2023-03-19 00:30:00   Normal  saturday  10_2998   \n",
       "2  2.456914  48.844840 2023-03-17 00:36:00   Normal  thursday  10_3004   \n",
       "3  2.229863  48.900512 2023-03-18 00:20:59   Normal    friday  10_3011   \n",
       "4  2.232411  48.899118 2023-03-18 00:40:59   Normal    friday  10_3011   \n",
       "\n",
       "  purpose  weight_day        trip_id  hour  accessibility time_threshold  \\\n",
       "0    Home  232.409000   2023-03-17_6     0          111.0         15 min   \n",
       "1   Other  290.365069   2023-03-18_8     0            7.0         15 min   \n",
       "2    Home  177.526369   2023-03-16_4     0            7.0         15 min   \n",
       "3    Home  657.095216  2023-03-17_12     0           32.0         15 min   \n",
       "4   Other  657.095216  2023-03-17_13     0           33.0         15 min   \n",
       "\n",
       "            amenity            mode          d2h  \n",
       "0  Social & Leisure  Public transit     0.000000  \n",
       "1  Social & Leisure  Public transit  9375.612274  \n",
       "2  Social & Leisure  Public transit     0.000000  \n",
       "3  Social & Leisure  Public transit     0.000000  \n",
       "4  Social & Leisure  Public transit   242.778210  "
      ]
     },
     "execution_count": 7,
     "metadata": {},
     "output_type": "execute_result"
    }
   ],
   "source": [
    "# Step 1: Extract home locations for each ID\n",
    "home_locations = df_activity[df_activity['purpose'] == 'Home'].groupby('ID')[['lat', 'lon']].first().reset_index()\n",
    "home_locations.columns = ['ID', 'home_lat', 'home_lon']\n",
    "home_locations = pd.concat([home_locations, df_home], ignore_index=True).drop_duplicates(subset=['ID'])\n",
    "\n",
    "# Step 2: Merge home location back into the original dataframe\n",
    "df_activity = df_activity.merge(home_locations, on='ID', how='left')\n",
    "\n",
    "# Step 3: Define a function to compute geodesic distance\n",
    "def compute_distance(row):\n",
    "    return geodesic((row['lat'], row['lon']), (row['home_lat'], row['home_lon'])).meters\n",
    "\n",
    "# Step 4: Apply the distance calculation\n",
    "tqdm.pandas()\n",
    "df_activity['d2h'] = df_activity.progress_apply(compute_distance, axis=1)\n",
    "df_activity.drop(columns=['home_lat', 'home_lon'], inplace=True)\n",
    "df_activity.head()"
   ]
  },
  {
   "cell_type": "code",
   "execution_count": 8,
   "id": "7960b159",
   "metadata": {},
   "outputs": [],
   "source": [
    "df_activity.loc[:, 'd2h'] /= 1000  # Convert meters to kilometers"
   ]
  },
  {
   "cell_type": "markdown",
   "id": "5431ba6f",
   "metadata": {},
   "source": [
    "## 4. Accessibility gap"
   ]
  },
  {
   "cell_type": "code",
   "execution_count": 9,
   "id": "9d82a99d",
   "metadata": {},
   "outputs": [
    {
     "name": "stderr",
     "output_type": "stream",
     "text": [
      "C:\\Users\\yuanlia\\AppData\\Local\\Temp\\ipykernel_8512\\363476740.py:2: FutureWarning: The default of observed=False is deprecated and will be changed to True in a future version of pandas. Pass observed=False to retain current behavior or observed=True to adopt the future default and silence this warning.\n",
      "  home_access = df_activity[df_activity['purpose'] == 'Home'].groupby(['ID', 'time_threshold', 'amenity', 'mode'])[['accessibility']].median().reset_index()\n"
     ]
    }
   ],
   "source": [
    "# Step 1: Extract home accessibility for each ID\n",
    "home_access = df_activity[df_activity['purpose'] == 'Home'].groupby(['ID', 'time_threshold', 'amenity', 'mode'])[['accessibility']].median().reset_index()\n",
    "home_access.rename(columns={'accessibility': 'home_accessibility'}, inplace=True)\n",
    "\n",
    "# Step 2: Merge home location back into the original dataframe\n",
    "df_activity = df_activity.merge(home_access, on=['ID', 'time_threshold', 'amenity', 'mode'], how='left')\n",
    "\n",
    "# Step 3: Compute the accessibility gap\n",
    "df_activity['gap_access'] = df_activity['accessibility'] - df_activity['home_accessibility']"
   ]
  },
  {
   "cell_type": "code",
   "execution_count": 10,
   "id": "0c386f01",
   "metadata": {},
   "outputs": [],
   "source": [
    "df_activity.to_parquet(\"dbs/activity_access.parquet\", index=False)"
   ]
  }
 ],
 "metadata": {
  "kernelspec": {
   "display_name": "mobi",
   "language": "python",
   "name": "python3"
  },
  "language_info": {
   "codemirror_mode": {
    "name": "ipython",
    "version": 3
   },
   "file_extension": ".py",
   "mimetype": "text/x-python",
   "name": "python",
   "nbconvert_exporter": "python",
   "pygments_lexer": "ipython3",
   "version": "3.11.11"
  }
 },
 "nbformat": 4,
 "nbformat_minor": 5
}
